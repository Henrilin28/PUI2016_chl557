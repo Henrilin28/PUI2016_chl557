{
 "cells": [
  {
   "cell_type": "markdown",
   "metadata": {},
   "source": [
    "# Working with Data - Computer Lab for Guest Lecture Julia Lane\n",
    "\n",
    "In this computer lab we will learn more more details and practice data work to enhance the content of the lecture presented by Julia Lane on responsible data use. We will address a research question, think about data and measurement errors, and manipulate data. \n",
    "\n",
    "OUTLINE: \n",
    "1. Define a research question \n",
    "2. Think about what data are available \n",
    "3. Think about possible measurement errors \n",
    "4. Think about the interpretation of your results \n",
    "5. Inform your results by linking datasets "
   ]
  },
  {
   "cell_type": "markdown",
   "metadata": {
    "raw_mimetype": "text/markdown"
   },
   "source": [
    "# 1. Define a reserach question\n",
    "Which Community Districts in NYC show the highest number of complaints?\n",
    "\n",
    "# 2. Think about what data are available\n",
    "Find suitable data by searching the CUSP Data Catalog https://datahub.cusp.nyu.edu/catalog. You can use Urban Profiler to investigate the Metadata associated with each dataset. Using this tool will help you to decide which attributes of the data you need to answer your question so you don't have to load the entire dataset. "
   ]
  },
  {
   "cell_type": "code",
   "execution_count": 4,
   "metadata": {
    "collapsed": false
   },
   "outputs": [],
   "source": [
    "import os\n",
    "import pandas as pd\n",
    "import numpy as np\n",
    "import re\n",
    "PUIdata = os.getenv('PUIDATA')"
   ]
  },
  {
   "cell_type": "code",
   "execution_count": 5,
   "metadata": {
    "collapsed": false
   },
   "outputs": [
    {
     "name": "stderr",
     "output_type": "stream",
     "text": [
      "/opt/rh/anaconda/root/envs/PUI2016_Python3/lib/python3.5/site-packages/IPython/core/interactiveshell.py:2717: DtypeWarning: Columns (8,17,39,40,47,48) have mixed types. Specify dtype option on import or set low_memory=False.\n",
      "  interactivity=interactivity, compiler=compiler, result=result)\n"
     ]
    }
   ],
   "source": [
    "# Load dataset\n",
    "\n",
    "data_311 = pd.read_csv('/projects/open/NYCOpenData/nycopendata/data/erm2-nwe9/1446832678/erm2-nwe9')"
   ]
  },
  {
   "cell_type": "markdown",
   "metadata": {},
   "source": [
    "# 3. Think about possible measurement errors\n",
    "Do you see any problems regarding possible measurement error? Think about who is represented in the data, ommissions, duplications, content error, missing data, etc. "
   ]
  },
  {
   "cell_type": "code",
   "execution_count": 6,
   "metadata": {
    "collapsed": false
   },
   "outputs": [
    {
     "data": {
      "text/plain": [
       "Unique Key                        10187766\n",
       "Created Date                      10187766\n",
       "Closed Date                        9736887\n",
       "Agency                            10187766\n",
       "Agency Name                       10187766\n",
       "Complaint Type                    10187766\n",
       "Descriptor                        10156709\n",
       "Location Type                      7120170\n",
       "Incident Zip                       9393607\n",
       "Incident Address                   7990060\n",
       "Street Name                        7989207\n",
       "Cross Street 1                     7811823\n",
       "Cross Street 2                     7761973\n",
       "Intersection Street 1              1842478\n",
       "Intersection Street 2              1841464\n",
       "Address Type                       9697467\n",
       "City                               9399054\n",
       "Landmark                              7310\n",
       "Facility Type                      1608281\n",
       "Status                            10187766\n",
       "Due Date                           3067480\n",
       "Resolution Description             6401015\n",
       "Resolution Action Updated Date     9936832\n",
       "Community Board                   10187766\n",
       "Borough                           10187766\n",
       "X Coordinate (State Plane)         9309014\n",
       "Y Coordinate (State Plane)         9309014\n",
       "Park Facility Name                10187766\n",
       "Park Borough                      10187766\n",
       "School Name                       10187766\n",
       "School Number                     10185483\n",
       "School Region                     10131569\n",
       "School Code                       10131570\n",
       "School Phone Number               10187766\n",
       "School Address                    10187760\n",
       "School City                       10187766\n",
       "School State                      10187766\n",
       "School Zip                        10187761\n",
       "School Not Found                   3036068\n",
       "School or Citywide Complaint          2354\n",
       "Vehicle Type                          7502\n",
       "Taxi Company Borough                 10165\n",
       "Taxi Pick Up Location                98559\n",
       "Bridge Highway Name                  35095\n",
       "Bridge Highway Direction             35043\n",
       "Road Ramp                            34780\n",
       "Bridge Highway Segment               51986\n",
       "Garage Lot Name                       4333\n",
       "Ferry Direction                       2743\n",
       "Ferry Terminal Name                   6524\n",
       "Latitude                           9309014\n",
       "Longitude                          9309014\n",
       "Location                           9309014\n",
       "dtype: int64"
      ]
     },
     "execution_count": 6,
     "metadata": {},
     "output_type": "execute_result"
    }
   ],
   "source": [
    "# Check if all Boroughs and Community Districts are represented in the Data \n",
    "data_311.count()"
   ]
  },
  {
   "cell_type": "code",
   "execution_count": 16,
   "metadata": {
    "collapsed": false
   },
   "outputs": [],
   "source": [
    "data_anl = data_311"
   ]
  },
  {
   "cell_type": "code",
   "execution_count": 17,
   "metadata": {
    "collapsed": false
   },
   "outputs": [
    {
     "name": "stdout",
     "output_type": "stream",
     "text": [
      "77\n"
     ]
    }
   ],
   "source": [
    "# How many unique values do we have\n",
    "print (len(data_anl['Community Board'].unique()))"
   ]
  },
  {
   "cell_type": "code",
   "execution_count": 18,
   "metadata": {
    "collapsed": false
   },
   "outputs": [
    {
     "data": {
      "text/html": [
       "<div>\n",
       "<table border=\"1\" class=\"dataframe\">\n",
       "  <thead>\n",
       "    <tr style=\"text-align: right;\">\n",
       "      <th></th>\n",
       "      <th>Unique Key</th>\n",
       "      <th>Created Date</th>\n",
       "      <th>Closed Date</th>\n",
       "      <th>Agency</th>\n",
       "      <th>Agency Name</th>\n",
       "      <th>Complaint Type</th>\n",
       "      <th>Descriptor</th>\n",
       "      <th>Location Type</th>\n",
       "      <th>Incident Zip</th>\n",
       "      <th>Incident Address</th>\n",
       "      <th>...</th>\n",
       "      <th>Bridge Highway Name</th>\n",
       "      <th>Bridge Highway Direction</th>\n",
       "      <th>Road Ramp</th>\n",
       "      <th>Bridge Highway Segment</th>\n",
       "      <th>Garage Lot Name</th>\n",
       "      <th>Ferry Direction</th>\n",
       "      <th>Ferry Terminal Name</th>\n",
       "      <th>Latitude</th>\n",
       "      <th>Longitude</th>\n",
       "      <th>Location</th>\n",
       "    </tr>\n",
       "  </thead>\n",
       "  <tbody>\n",
       "    <tr>\n",
       "      <th>0</th>\n",
       "      <td>31911011</td>\n",
       "      <td>11/05/2015 02:59:15 AM</td>\n",
       "      <td>NaN</td>\n",
       "      <td>DOT</td>\n",
       "      <td>Department of Transportation</td>\n",
       "      <td>Street Condition</td>\n",
       "      <td>Pothole</td>\n",
       "      <td>NaN</td>\n",
       "      <td>11224</td>\n",
       "      <td>NaN</td>\n",
       "      <td>...</td>\n",
       "      <td>NaN</td>\n",
       "      <td>NaN</td>\n",
       "      <td>NaN</td>\n",
       "      <td>NaN</td>\n",
       "      <td>NaN</td>\n",
       "      <td>NaN</td>\n",
       "      <td>NaN</td>\n",
       "      <td>40.573431</td>\n",
       "      <td>-73.991742</td>\n",
       "      <td>(40.57343122248129, -73.99174247588253)</td>\n",
       "    </tr>\n",
       "    <tr>\n",
       "      <th>1</th>\n",
       "      <td>31908754</td>\n",
       "      <td>11/05/2015 02:09:49 AM</td>\n",
       "      <td>NaN</td>\n",
       "      <td>CHALL</td>\n",
       "      <td>CHALL</td>\n",
       "      <td>Opinion for the Mayor</td>\n",
       "      <td>HOUSING</td>\n",
       "      <td>NaN</td>\n",
       "      <td>NaN</td>\n",
       "      <td>NaN</td>\n",
       "      <td>...</td>\n",
       "      <td>NaN</td>\n",
       "      <td>NaN</td>\n",
       "      <td>NaN</td>\n",
       "      <td>1-1-1173130914</td>\n",
       "      <td>NaN</td>\n",
       "      <td>NaN</td>\n",
       "      <td>NaN</td>\n",
       "      <td>NaN</td>\n",
       "      <td>NaN</td>\n",
       "      <td>NaN</td>\n",
       "    </tr>\n",
       "    <tr>\n",
       "      <th>2</th>\n",
       "      <td>31910423</td>\n",
       "      <td>11/05/2015 02:06:51 AM</td>\n",
       "      <td>NaN</td>\n",
       "      <td>DPR</td>\n",
       "      <td>Department of Parks and Recreation</td>\n",
       "      <td>Root/Sewer/Sidewalk Condition</td>\n",
       "      <td>Trees and Sidewalks Program</td>\n",
       "      <td>Street</td>\n",
       "      <td>11234</td>\n",
       "      <td>1157 EAST 57 STREET</td>\n",
       "      <td>...</td>\n",
       "      <td>NaN</td>\n",
       "      <td>NaN</td>\n",
       "      <td>NaN</td>\n",
       "      <td>NaN</td>\n",
       "      <td>NaN</td>\n",
       "      <td>NaN</td>\n",
       "      <td>NaN</td>\n",
       "      <td>40.625004</td>\n",
       "      <td>-73.920726</td>\n",
       "      <td>(40.62500363580505, -73.92072558378698)</td>\n",
       "    </tr>\n",
       "    <tr>\n",
       "      <th>3</th>\n",
       "      <td>31909924</td>\n",
       "      <td>11/05/2015 02:02:20 AM</td>\n",
       "      <td>NaN</td>\n",
       "      <td>NYPD</td>\n",
       "      <td>New York City Police Department</td>\n",
       "      <td>Illegal Parking</td>\n",
       "      <td>Blocked Hydrant</td>\n",
       "      <td>Street/Sidewalk</td>\n",
       "      <td>11218</td>\n",
       "      <td>722 EAST 4 STREET</td>\n",
       "      <td>...</td>\n",
       "      <td>NaN</td>\n",
       "      <td>NaN</td>\n",
       "      <td>NaN</td>\n",
       "      <td>NaN</td>\n",
       "      <td>NaN</td>\n",
       "      <td>NaN</td>\n",
       "      <td>NaN</td>\n",
       "      <td>40.634522</td>\n",
       "      <td>-73.974790</td>\n",
       "      <td>(40.634522428879706, -73.97479041437481)</td>\n",
       "    </tr>\n",
       "    <tr>\n",
       "      <th>4</th>\n",
       "      <td>31913310</td>\n",
       "      <td>11/05/2015 01:57:20 AM</td>\n",
       "      <td>11/05/2015 01:57:31 AM</td>\n",
       "      <td>HRA</td>\n",
       "      <td>HRA Benefit Card Replacement</td>\n",
       "      <td>Benefit Card Replacement</td>\n",
       "      <td>Medicaid</td>\n",
       "      <td>NYC Street Address</td>\n",
       "      <td>NaN</td>\n",
       "      <td>NaN</td>\n",
       "      <td>...</td>\n",
       "      <td>NaN</td>\n",
       "      <td>NaN</td>\n",
       "      <td>NaN</td>\n",
       "      <td>NaN</td>\n",
       "      <td>NaN</td>\n",
       "      <td>NaN</td>\n",
       "      <td>NaN</td>\n",
       "      <td>NaN</td>\n",
       "      <td>NaN</td>\n",
       "      <td>NaN</td>\n",
       "    </tr>\n",
       "  </tbody>\n",
       "</table>\n",
       "<p>5 rows × 53 columns</p>\n",
       "</div>"
      ],
      "text/plain": [
       "   Unique Key            Created Date             Closed Date Agency  \\\n",
       "0    31911011  11/05/2015 02:59:15 AM                     NaN    DOT   \n",
       "1    31908754  11/05/2015 02:09:49 AM                     NaN  CHALL   \n",
       "2    31910423  11/05/2015 02:06:51 AM                     NaN    DPR   \n",
       "3    31909924  11/05/2015 02:02:20 AM                     NaN   NYPD   \n",
       "4    31913310  11/05/2015 01:57:20 AM  11/05/2015 01:57:31 AM    HRA   \n",
       "\n",
       "                          Agency Name                 Complaint Type  \\\n",
       "0        Department of Transportation               Street Condition   \n",
       "1                               CHALL          Opinion for the Mayor   \n",
       "2  Department of Parks and Recreation  Root/Sewer/Sidewalk Condition   \n",
       "3     New York City Police Department                Illegal Parking   \n",
       "4        HRA Benefit Card Replacement       Benefit Card Replacement   \n",
       "\n",
       "                    Descriptor       Location Type Incident Zip  \\\n",
       "0                      Pothole                 NaN        11224   \n",
       "1                      HOUSING                 NaN          NaN   \n",
       "2  Trees and Sidewalks Program              Street        11234   \n",
       "3              Blocked Hydrant     Street/Sidewalk        11218   \n",
       "4                     Medicaid  NYC Street Address          NaN   \n",
       "\n",
       "      Incident Address                    ...                     \\\n",
       "0                  NaN                    ...                      \n",
       "1                  NaN                    ...                      \n",
       "2  1157 EAST 57 STREET                    ...                      \n",
       "3    722 EAST 4 STREET                    ...                      \n",
       "4                  NaN                    ...                      \n",
       "\n",
       "  Bridge Highway Name Bridge Highway Direction Road Ramp  \\\n",
       "0                 NaN                      NaN       NaN   \n",
       "1                 NaN                      NaN       NaN   \n",
       "2                 NaN                      NaN       NaN   \n",
       "3                 NaN                      NaN       NaN   \n",
       "4                 NaN                      NaN       NaN   \n",
       "\n",
       "  Bridge Highway Segment Garage Lot Name Ferry Direction Ferry Terminal Name  \\\n",
       "0                    NaN             NaN             NaN                 NaN   \n",
       "1         1-1-1173130914             NaN             NaN                 NaN   \n",
       "2                    NaN             NaN             NaN                 NaN   \n",
       "3                    NaN             NaN             NaN                 NaN   \n",
       "4                    NaN             NaN             NaN                 NaN   \n",
       "\n",
       "    Latitude  Longitude                                  Location  \n",
       "0  40.573431 -73.991742   (40.57343122248129, -73.99174247588253)  \n",
       "1        NaN        NaN                                       NaN  \n",
       "2  40.625004 -73.920726   (40.62500363580505, -73.92072558378698)  \n",
       "3  40.634522 -73.974790  (40.634522428879706, -73.97479041437481)  \n",
       "4        NaN        NaN                                       NaN  \n",
       "\n",
       "[5 rows x 53 columns]"
      ]
     },
     "execution_count": 18,
     "metadata": {},
     "output_type": "execute_result"
    }
   ],
   "source": [
    "data_anl.head()"
   ]
  },
  {
   "cell_type": "markdown",
   "metadata": {
    "collapsed": false
   },
   "source": [
    "##### Why do we have so many? Some of them are unspecified, missing. Some might be invalid entries.  We should have 59 Community Districts.\n",
    "there are some labeled as unspecified."
   ]
  },
  {
   "cell_type": "markdown",
   "metadata": {},
   "source": [
    "##### Check for duplicates? Are these plausible?"
   ]
  },
  {
   "cell_type": "code",
   "execution_count": 19,
   "metadata": {
    "collapsed": false
   },
   "outputs": [
    {
     "name": "stdout",
     "output_type": "stream",
     "text": [
      "Number of all duplicates: 0\n"
     ]
    }
   ],
   "source": [
    "data_uni = data_anl.drop_duplicates()\n",
    "print ('Number of all duplicates: {}'.format(len(data_anl) - len(data_uni)))"
   ]
  },
  {
   "cell_type": "markdown",
   "metadata": {
    "collapsed": true
   },
   "source": [
    "#### Check for duplicates? Are these plausible?"
   ]
  },
  {
   "cell_type": "markdown",
   "metadata": {},
   "source": [
    "There are no duplicates in the file by using pandas' function but there some duplicate unique keys are not be detacted."
   ]
  },
  {
   "cell_type": "markdown",
   "metadata": {
    "collapsed": false
   },
   "source": [
    "#### What about missing values? Can you detect any patterns? "
   ]
  },
  {
   "cell_type": "code",
   "execution_count": 22,
   "metadata": {
    "collapsed": false
   },
   "outputs": [
    {
     "data": {
      "text/plain": [
       "Unique Key                               0\n",
       "Created Date                             0\n",
       "Closed Date                         450879\n",
       "Agency                                   0\n",
       "Agency Name                              0\n",
       "Complaint Type                           0\n",
       "Descriptor                           31057\n",
       "Location Type                      3067596\n",
       "Incident Zip                        794159\n",
       "Incident Address                   2197706\n",
       "Street Name                        2198559\n",
       "Cross Street 1                     2375943\n",
       "Cross Street 2                     2425793\n",
       "Intersection Street 1              8345288\n",
       "Intersection Street 2              8346302\n",
       "Address Type                        490299\n",
       "City                                788712\n",
       "Landmark                          10180456\n",
       "Facility Type                      8579485\n",
       "Status                                   0\n",
       "Due Date                           7120286\n",
       "Resolution Description             3786751\n",
       "Resolution Action Updated Date      250934\n",
       "Community Board                          0\n",
       "Borough                                  0\n",
       "X Coordinate (State Plane)          878752\n",
       "Y Coordinate (State Plane)          878752\n",
       "Park Facility Name                       0\n",
       "Park Borough                             0\n",
       "School Name                              0\n",
       "School Number                         2283\n",
       "School Region                        56197\n",
       "School Code                          56196\n",
       "School Phone Number                      0\n",
       "School Address                           6\n",
       "School City                              0\n",
       "School State                             0\n",
       "School Zip                               5\n",
       "School Not Found                   7151698\n",
       "School or Citywide Complaint      10185412\n",
       "Vehicle Type                      10180264\n",
       "Taxi Company Borough              10177601\n",
       "Taxi Pick Up Location             10089207\n",
       "Bridge Highway Name               10152671\n",
       "Bridge Highway Direction          10152723\n",
       "Road Ramp                         10152986\n",
       "Bridge Highway Segment            10135780\n",
       "Garage Lot Name                   10183433\n",
       "Ferry Direction                   10185023\n",
       "Ferry Terminal Name               10181242\n",
       "Latitude                            878752\n",
       "Longitude                           878752\n",
       "Location                            878752\n",
       "dtype: int64"
      ]
     },
     "execution_count": 22,
     "metadata": {},
     "output_type": "execute_result"
    }
   ],
   "source": [
    "data_uni.isnull().sum()"
   ]
  },
  {
   "cell_type": "markdown",
   "metadata": {
    "collapsed": true
   },
   "source": [
    "#### Data Editing: Is it possible to replace missing values? Is it possible to use Complaint Type \n",
    "#### to fill missings in Resolution Descriptor?"
   ]
  },
  {
   "cell_type": "markdown",
   "metadata": {},
   "source": [
    "It definitely have methods to fill the missing value. However, it\n",
    "is not a right way to use one attribute to fill another, but you can us their relation to fill missing value"
   ]
  },
  {
   "cell_type": "code",
   "execution_count": null,
   "metadata": {
    "collapsed": false
   },
   "outputs": [],
   "source": [
    "# Generate marker for unplausible Community Districts\n",
    "# How do these districts look like? "
   ]
  },
  {
   "cell_type": "code",
   "execution_count": 43,
   "metadata": {
    "collapsed": false
   },
   "outputs": [],
   "source": [
    "data_uni['Bad Community Board'] = data_uni['Community Board'].str.contains(\"Unspecified\")"
   ]
  },
  {
   "cell_type": "code",
   "execution_count": 44,
   "metadata": {
    "collapsed": false
   },
   "outputs": [
    {
     "data": {
      "text/html": [
       "<div>\n",
       "<table border=\"1\" class=\"dataframe\">\n",
       "  <thead>\n",
       "    <tr style=\"text-align: right;\">\n",
       "      <th></th>\n",
       "      <th>Community Board</th>\n",
       "      <th>Bad Community Board</th>\n",
       "    </tr>\n",
       "  </thead>\n",
       "  <tbody>\n",
       "    <tr>\n",
       "      <th>0</th>\n",
       "      <td>13 BROOKLYN</td>\n",
       "      <td>False</td>\n",
       "    </tr>\n",
       "    <tr>\n",
       "      <th>1</th>\n",
       "      <td>0 Unspecified</td>\n",
       "      <td>True</td>\n",
       "    </tr>\n",
       "    <tr>\n",
       "      <th>2</th>\n",
       "      <td>18 BROOKLYN</td>\n",
       "      <td>False</td>\n",
       "    </tr>\n",
       "    <tr>\n",
       "      <th>3</th>\n",
       "      <td>12 BROOKLYN</td>\n",
       "      <td>False</td>\n",
       "    </tr>\n",
       "    <tr>\n",
       "      <th>4</th>\n",
       "      <td>0 Unspecified</td>\n",
       "      <td>True</td>\n",
       "    </tr>\n",
       "  </tbody>\n",
       "</table>\n",
       "</div>"
      ],
      "text/plain": [
       "  Community Board Bad Community Board\n",
       "0     13 BROOKLYN               False\n",
       "1   0 Unspecified                True\n",
       "2     18 BROOKLYN               False\n",
       "3     12 BROOKLYN               False\n",
       "4   0 Unspecified                True"
      ]
     },
     "execution_count": 44,
     "metadata": {},
     "output_type": "execute_result"
    }
   ],
   "source": [
    "data_uni[['Community Board','Bad Community Board']].head()"
   ]
  },
  {
   "cell_type": "code",
   "execution_count": 45,
   "metadata": {
    "collapsed": true
   },
   "outputs": [],
   "source": [
    "# Drop the marked districts"
   ]
  },
  {
   "cell_type": "code",
   "execution_count": 46,
   "metadata": {
    "collapsed": false
   },
   "outputs": [
    {
     "data": {
      "text/html": [
       "<div>\n",
       "<table border=\"1\" class=\"dataframe\">\n",
       "  <thead>\n",
       "    <tr style=\"text-align: right;\">\n",
       "      <th></th>\n",
       "      <th>Unique Key</th>\n",
       "      <th>Created Date</th>\n",
       "      <th>Closed Date</th>\n",
       "      <th>Agency</th>\n",
       "      <th>Agency Name</th>\n",
       "      <th>Complaint Type</th>\n",
       "      <th>Descriptor</th>\n",
       "      <th>Location Type</th>\n",
       "      <th>Incident Zip</th>\n",
       "      <th>Incident Address</th>\n",
       "      <th>...</th>\n",
       "      <th>Bridge Highway Direction</th>\n",
       "      <th>Road Ramp</th>\n",
       "      <th>Bridge Highway Segment</th>\n",
       "      <th>Garage Lot Name</th>\n",
       "      <th>Ferry Direction</th>\n",
       "      <th>Ferry Terminal Name</th>\n",
       "      <th>Latitude</th>\n",
       "      <th>Longitude</th>\n",
       "      <th>Location</th>\n",
       "      <th>Bad Community Board</th>\n",
       "    </tr>\n",
       "  </thead>\n",
       "  <tbody>\n",
       "    <tr>\n",
       "      <th>0</th>\n",
       "      <td>31911011</td>\n",
       "      <td>11/05/2015 02:59:15 AM</td>\n",
       "      <td>NaN</td>\n",
       "      <td>DOT</td>\n",
       "      <td>Department of Transportation</td>\n",
       "      <td>Street Condition</td>\n",
       "      <td>Pothole</td>\n",
       "      <td>NaN</td>\n",
       "      <td>11224</td>\n",
       "      <td>NaN</td>\n",
       "      <td>...</td>\n",
       "      <td>NaN</td>\n",
       "      <td>NaN</td>\n",
       "      <td>NaN</td>\n",
       "      <td>NaN</td>\n",
       "      <td>NaN</td>\n",
       "      <td>NaN</td>\n",
       "      <td>40.573431</td>\n",
       "      <td>-73.991742</td>\n",
       "      <td>(40.57343122248129, -73.99174247588253)</td>\n",
       "      <td>False</td>\n",
       "    </tr>\n",
       "    <tr>\n",
       "      <th>2</th>\n",
       "      <td>31910423</td>\n",
       "      <td>11/05/2015 02:06:51 AM</td>\n",
       "      <td>NaN</td>\n",
       "      <td>DPR</td>\n",
       "      <td>Department of Parks and Recreation</td>\n",
       "      <td>Root/Sewer/Sidewalk Condition</td>\n",
       "      <td>Trees and Sidewalks Program</td>\n",
       "      <td>Street</td>\n",
       "      <td>11234</td>\n",
       "      <td>1157 EAST 57 STREET</td>\n",
       "      <td>...</td>\n",
       "      <td>NaN</td>\n",
       "      <td>NaN</td>\n",
       "      <td>NaN</td>\n",
       "      <td>NaN</td>\n",
       "      <td>NaN</td>\n",
       "      <td>NaN</td>\n",
       "      <td>40.625004</td>\n",
       "      <td>-73.920726</td>\n",
       "      <td>(40.62500363580505, -73.92072558378698)</td>\n",
       "      <td>False</td>\n",
       "    </tr>\n",
       "    <tr>\n",
       "      <th>3</th>\n",
       "      <td>31909924</td>\n",
       "      <td>11/05/2015 02:02:20 AM</td>\n",
       "      <td>NaN</td>\n",
       "      <td>NYPD</td>\n",
       "      <td>New York City Police Department</td>\n",
       "      <td>Illegal Parking</td>\n",
       "      <td>Blocked Hydrant</td>\n",
       "      <td>Street/Sidewalk</td>\n",
       "      <td>11218</td>\n",
       "      <td>722 EAST 4 STREET</td>\n",
       "      <td>...</td>\n",
       "      <td>NaN</td>\n",
       "      <td>NaN</td>\n",
       "      <td>NaN</td>\n",
       "      <td>NaN</td>\n",
       "      <td>NaN</td>\n",
       "      <td>NaN</td>\n",
       "      <td>40.634522</td>\n",
       "      <td>-73.974790</td>\n",
       "      <td>(40.634522428879706, -73.97479041437481)</td>\n",
       "      <td>False</td>\n",
       "    </tr>\n",
       "    <tr>\n",
       "      <th>5</th>\n",
       "      <td>31914148</td>\n",
       "      <td>11/05/2015 01:55:55 AM</td>\n",
       "      <td>NaN</td>\n",
       "      <td>DOT</td>\n",
       "      <td>Department of Transportation</td>\n",
       "      <td>Highway Condition</td>\n",
       "      <td>Pothole - Highway</td>\n",
       "      <td>Highway</td>\n",
       "      <td>10304</td>\n",
       "      <td>NaN</td>\n",
       "      <td>...</td>\n",
       "      <td>East/Brooklyn Bound</td>\n",
       "      <td>Roadway</td>\n",
       "      <td>Clove Rd/Richmond Rd (Exit 13) - Lily Pond Ave...</td>\n",
       "      <td>NaN</td>\n",
       "      <td>NaN</td>\n",
       "      <td>NaN</td>\n",
       "      <td>40.606875</td>\n",
       "      <td>-74.085408</td>\n",
       "      <td>(40.60687536641399, -74.0854077221027)</td>\n",
       "      <td>False</td>\n",
       "    </tr>\n",
       "    <tr>\n",
       "      <th>7</th>\n",
       "      <td>31912611</td>\n",
       "      <td>11/05/2015 01:47:12 AM</td>\n",
       "      <td>NaN</td>\n",
       "      <td>NYPD</td>\n",
       "      <td>New York City Police Department</td>\n",
       "      <td>Noise - Commercial</td>\n",
       "      <td>Loud Music/Party</td>\n",
       "      <td>Club/Bar/Restaurant</td>\n",
       "      <td>10021</td>\n",
       "      <td>1402 2 AVENUE</td>\n",
       "      <td>...</td>\n",
       "      <td>NaN</td>\n",
       "      <td>NaN</td>\n",
       "      <td>NaN</td>\n",
       "      <td>NaN</td>\n",
       "      <td>NaN</td>\n",
       "      <td>NaN</td>\n",
       "      <td>40.769379</td>\n",
       "      <td>-73.957930</td>\n",
       "      <td>(40.769378795761845, -73.95793023233308)</td>\n",
       "      <td>False</td>\n",
       "    </tr>\n",
       "  </tbody>\n",
       "</table>\n",
       "<p>5 rows × 54 columns</p>\n",
       "</div>"
      ],
      "text/plain": [
       "   Unique Key            Created Date Closed Date Agency  \\\n",
       "0    31911011  11/05/2015 02:59:15 AM         NaN    DOT   \n",
       "2    31910423  11/05/2015 02:06:51 AM         NaN    DPR   \n",
       "3    31909924  11/05/2015 02:02:20 AM         NaN   NYPD   \n",
       "5    31914148  11/05/2015 01:55:55 AM         NaN    DOT   \n",
       "7    31912611  11/05/2015 01:47:12 AM         NaN   NYPD   \n",
       "\n",
       "                          Agency Name                 Complaint Type  \\\n",
       "0        Department of Transportation               Street Condition   \n",
       "2  Department of Parks and Recreation  Root/Sewer/Sidewalk Condition   \n",
       "3     New York City Police Department                Illegal Parking   \n",
       "5        Department of Transportation              Highway Condition   \n",
       "7     New York City Police Department             Noise - Commercial   \n",
       "\n",
       "                    Descriptor        Location Type Incident Zip  \\\n",
       "0                      Pothole                  NaN        11224   \n",
       "2  Trees and Sidewalks Program               Street        11234   \n",
       "3              Blocked Hydrant      Street/Sidewalk        11218   \n",
       "5            Pothole - Highway              Highway        10304   \n",
       "7             Loud Music/Party  Club/Bar/Restaurant        10021   \n",
       "\n",
       "      Incident Address         ...         Bridge Highway Direction Road Ramp  \\\n",
       "0                  NaN         ...                              NaN       NaN   \n",
       "2  1157 EAST 57 STREET         ...                              NaN       NaN   \n",
       "3    722 EAST 4 STREET         ...                              NaN       NaN   \n",
       "5                  NaN         ...              East/Brooklyn Bound   Roadway   \n",
       "7        1402 2 AVENUE         ...                              NaN       NaN   \n",
       "\n",
       "                              Bridge Highway Segment Garage Lot Name  \\\n",
       "0                                                NaN             NaN   \n",
       "2                                                NaN             NaN   \n",
       "3                                                NaN             NaN   \n",
       "5  Clove Rd/Richmond Rd (Exit 13) - Lily Pond Ave...             NaN   \n",
       "7                                                NaN             NaN   \n",
       "\n",
       "  Ferry Direction Ferry Terminal Name   Latitude  Longitude  \\\n",
       "0             NaN                 NaN  40.573431 -73.991742   \n",
       "2             NaN                 NaN  40.625004 -73.920726   \n",
       "3             NaN                 NaN  40.634522 -73.974790   \n",
       "5             NaN                 NaN  40.606875 -74.085408   \n",
       "7             NaN                 NaN  40.769379 -73.957930   \n",
       "\n",
       "                                   Location Bad Community Board  \n",
       "0   (40.57343122248129, -73.99174247588253)               False  \n",
       "2   (40.62500363580505, -73.92072558378698)               False  \n",
       "3  (40.634522428879706, -73.97479041437481)               False  \n",
       "5    (40.60687536641399, -74.0854077221027)               False  \n",
       "7  (40.769378795761845, -73.95793023233308)               False  \n",
       "\n",
       "[5 rows x 54 columns]"
      ]
     },
     "execution_count": 46,
     "metadata": {},
     "output_type": "execute_result"
    }
   ],
   "source": [
    "data_good = data_uni[data_uni['Bad Community Board'] == False]\n",
    "data_good.head()"
   ]
  },
  {
   "cell_type": "code",
   "execution_count": 47,
   "metadata": {
    "collapsed": false
   },
   "outputs": [
    {
     "data": {
      "text/plain": [
       "71"
      ]
     },
     "execution_count": 47,
     "metadata": {},
     "output_type": "execute_result"
    }
   ],
   "source": [
    "len(data_good['Community Board'].unique())"
   ]
  },
  {
   "cell_type": "code",
   "execution_count": 64,
   "metadata": {
    "collapsed": false
   },
   "outputs": [
    {
     "name": "stderr",
     "output_type": "stream",
     "text": [
      "/opt/rh/anaconda/root/envs/PUI2016_Python3/lib/python3.5/site-packages/ipykernel/__main__.py:1: FutureWarning: currently extract(expand=None) means expand=False (return Index/Series/DataFrame) but in a future version of pandas this will be changed to expand=True (return DataFrame)\n",
      "  if __name__ == '__main__':\n",
      "/opt/rh/anaconda/root/envs/PUI2016_Python3/lib/python3.5/site-packages/ipykernel/__main__.py:1: SettingWithCopyWarning: \n",
      "A value is trying to be set on a copy of a slice from a DataFrame.\n",
      "Try using .loc[row_indexer,col_indexer] = value instead\n",
      "\n",
      "See the caveats in the documentation: http://pandas.pydata.org/pandas-docs/stable/indexing.html#indexing-view-versus-copy\n",
      "  if __name__ == '__main__':\n"
     ]
    }
   ],
   "source": [
    "data_good['Bad Community Board'] = data_good['Community Board'].str.extract('(\\d+)').astype(int) >20"
   ]
  },
  {
   "cell_type": "code",
   "execution_count": 65,
   "metadata": {
    "collapsed": false
   },
   "outputs": [
    {
     "data": {
      "text/plain": [
       "59"
      ]
     },
     "execution_count": 65,
     "metadata": {},
     "output_type": "execute_result"
    }
   ],
   "source": [
    "data_gg = data_good[data_good['Bad Community Board'] == False]\n",
    "len(data_gg['Community Board'].unique())"
   ]
  },
  {
   "cell_type": "markdown",
   "metadata": {
    "collapsed": true
   },
   "source": [
    "#### Produce your result: Generate an indicator which ranks the Community District by complaint numbers \n",
    "#### on the Community district level"
   ]
  },
  {
   "cell_type": "code",
   "execution_count": 83,
   "metadata": {
    "collapsed": true
   },
   "outputs": [],
   "source": [
    "data_ = data_gg[[\"Community Board\",\"Complaint Type\"]]\n",
    "comm_complaints = data_.groupby('Community Board').count()\n",
    "comm_complaints.columns = ['Number of Complaints']"
   ]
  },
  {
   "cell_type": "code",
   "execution_count": 84,
   "metadata": {
    "collapsed": false
   },
   "outputs": [
    {
     "data": {
      "text/html": [
       "<div>\n",
       "<table border=\"1\" class=\"dataframe\">\n",
       "  <thead>\n",
       "    <tr style=\"text-align: right;\">\n",
       "      <th></th>\n",
       "      <th>Number of Complaints</th>\n",
       "    </tr>\n",
       "    <tr>\n",
       "      <th>Community Board</th>\n",
       "      <th></th>\n",
       "    </tr>\n",
       "  </thead>\n",
       "  <tbody>\n",
       "    <tr>\n",
       "      <th>01 BRONX</th>\n",
       "      <td>74631</td>\n",
       "    </tr>\n",
       "    <tr>\n",
       "      <th>01 BROOKLYN</th>\n",
       "      <td>185057</td>\n",
       "    </tr>\n",
       "    <tr>\n",
       "      <th>01 MANHATTAN</th>\n",
       "      <td>77974</td>\n",
       "    </tr>\n",
       "    <tr>\n",
       "      <th>01 QUEENS</th>\n",
       "      <td>171484</td>\n",
       "    </tr>\n",
       "    <tr>\n",
       "      <th>01 STATEN ISLAND</th>\n",
       "      <td>182713</td>\n",
       "    </tr>\n",
       "    <tr>\n",
       "      <th>02 BRONX</th>\n",
       "      <td>60257</td>\n",
       "    </tr>\n",
       "    <tr>\n",
       "      <th>02 BROOKLYN</th>\n",
       "      <td>121022</td>\n",
       "    </tr>\n",
       "    <tr>\n",
       "      <th>02 MANHATTAN</th>\n",
       "      <td>133860</td>\n",
       "    </tr>\n",
       "    <tr>\n",
       "      <th>02 QUEENS</th>\n",
       "      <td>114333</td>\n",
       "    </tr>\n",
       "    <tr>\n",
       "      <th>02 STATEN ISLAND</th>\n",
       "      <td>121132</td>\n",
       "    </tr>\n",
       "    <tr>\n",
       "      <th>03 BRONX</th>\n",
       "      <td>75134</td>\n",
       "    </tr>\n",
       "    <tr>\n",
       "      <th>03 BROOKLYN</th>\n",
       "      <td>197306</td>\n",
       "    </tr>\n",
       "    <tr>\n",
       "      <th>03 MANHATTAN</th>\n",
       "      <td>150296</td>\n",
       "    </tr>\n",
       "    <tr>\n",
       "      <th>03 QUEENS</th>\n",
       "      <td>122009</td>\n",
       "    </tr>\n",
       "    <tr>\n",
       "      <th>03 STATEN ISLAND</th>\n",
       "      <td>136487</td>\n",
       "    </tr>\n",
       "    <tr>\n",
       "      <th>04 BRONX</th>\n",
       "      <td>181953</td>\n",
       "    </tr>\n",
       "    <tr>\n",
       "      <th>04 BROOKLYN</th>\n",
       "      <td>139706</td>\n",
       "    </tr>\n",
       "    <tr>\n",
       "      <th>04 MANHATTAN</th>\n",
       "      <td>132660</td>\n",
       "    </tr>\n",
       "    <tr>\n",
       "      <th>04 QUEENS</th>\n",
       "      <td>99316</td>\n",
       "    </tr>\n",
       "    <tr>\n",
       "      <th>05 BRONX</th>\n",
       "      <td>161078</td>\n",
       "    </tr>\n",
       "    <tr>\n",
       "      <th>05 BROOKLYN</th>\n",
       "      <td>189765</td>\n",
       "    </tr>\n",
       "    <tr>\n",
       "      <th>05 MANHATTAN</th>\n",
       "      <td>142028</td>\n",
       "    </tr>\n",
       "    <tr>\n",
       "      <th>05 QUEENS</th>\n",
       "      <td>168570</td>\n",
       "    </tr>\n",
       "    <tr>\n",
       "      <th>06 BRONX</th>\n",
       "      <td>99547</td>\n",
       "    </tr>\n",
       "    <tr>\n",
       "      <th>06 BROOKLYN</th>\n",
       "      <td>114029</td>\n",
       "    </tr>\n",
       "    <tr>\n",
       "      <th>06 MANHATTAN</th>\n",
       "      <td>104249</td>\n",
       "    </tr>\n",
       "    <tr>\n",
       "      <th>06 QUEENS</th>\n",
       "      <td>90938</td>\n",
       "    </tr>\n",
       "    <tr>\n",
       "      <th>07 BRONX</th>\n",
       "      <td>185729</td>\n",
       "    </tr>\n",
       "    <tr>\n",
       "      <th>07 BROOKLYN</th>\n",
       "      <td>107031</td>\n",
       "    </tr>\n",
       "    <tr>\n",
       "      <th>07 MANHATTAN</th>\n",
       "      <td>151419</td>\n",
       "    </tr>\n",
       "    <tr>\n",
       "      <th>07 QUEENS</th>\n",
       "      <td>195961</td>\n",
       "    </tr>\n",
       "    <tr>\n",
       "      <th>08 BRONX</th>\n",
       "      <td>92733</td>\n",
       "    </tr>\n",
       "    <tr>\n",
       "      <th>08 BROOKLYN</th>\n",
       "      <td>141119</td>\n",
       "    </tr>\n",
       "    <tr>\n",
       "      <th>08 MANHATTAN</th>\n",
       "      <td>149076</td>\n",
       "    </tr>\n",
       "    <tr>\n",
       "      <th>08 QUEENS</th>\n",
       "      <td>123131</td>\n",
       "    </tr>\n",
       "    <tr>\n",
       "      <th>09 BRONX</th>\n",
       "      <td>147457</td>\n",
       "    </tr>\n",
       "    <tr>\n",
       "      <th>09 BROOKLYN</th>\n",
       "      <td>135833</td>\n",
       "    </tr>\n",
       "    <tr>\n",
       "      <th>09 MANHATTAN</th>\n",
       "      <td>127565</td>\n",
       "    </tr>\n",
       "    <tr>\n",
       "      <th>09 QUEENS</th>\n",
       "      <td>151242</td>\n",
       "    </tr>\n",
       "    <tr>\n",
       "      <th>10 BRONX</th>\n",
       "      <td>95496</td>\n",
       "    </tr>\n",
       "    <tr>\n",
       "      <th>10 BROOKLYN</th>\n",
       "      <td>111837</td>\n",
       "    </tr>\n",
       "    <tr>\n",
       "      <th>10 MANHATTAN</th>\n",
       "      <td>137344</td>\n",
       "    </tr>\n",
       "    <tr>\n",
       "      <th>10 QUEENS</th>\n",
       "      <td>128116</td>\n",
       "    </tr>\n",
       "    <tr>\n",
       "      <th>11 BRONX</th>\n",
       "      <td>122081</td>\n",
       "    </tr>\n",
       "    <tr>\n",
       "      <th>11 BROOKLYN</th>\n",
       "      <td>139890</td>\n",
       "    </tr>\n",
       "    <tr>\n",
       "      <th>11 MANHATTAN</th>\n",
       "      <td>95413</td>\n",
       "    </tr>\n",
       "    <tr>\n",
       "      <th>11 QUEENS</th>\n",
       "      <td>101908</td>\n",
       "    </tr>\n",
       "    <tr>\n",
       "      <th>12 BRONX</th>\n",
       "      <td>168455</td>\n",
       "    </tr>\n",
       "    <tr>\n",
       "      <th>12 BROOKLYN</th>\n",
       "      <td>150320</td>\n",
       "    </tr>\n",
       "    <tr>\n",
       "      <th>12 MANHATTAN</th>\n",
       "      <td>268053</td>\n",
       "    </tr>\n",
       "    <tr>\n",
       "      <th>12 QUEENS</th>\n",
       "      <td>229383</td>\n",
       "    </tr>\n",
       "    <tr>\n",
       "      <th>13 BROOKLYN</th>\n",
       "      <td>72362</td>\n",
       "    </tr>\n",
       "    <tr>\n",
       "      <th>13 QUEENS</th>\n",
       "      <td>163851</td>\n",
       "    </tr>\n",
       "    <tr>\n",
       "      <th>14 BROOKLYN</th>\n",
       "      <td>187794</td>\n",
       "    </tr>\n",
       "    <tr>\n",
       "      <th>14 QUEENS</th>\n",
       "      <td>103396</td>\n",
       "    </tr>\n",
       "    <tr>\n",
       "      <th>15 BROOKLYN</th>\n",
       "      <td>146129</td>\n",
       "    </tr>\n",
       "    <tr>\n",
       "      <th>16 BROOKLYN</th>\n",
       "      <td>85467</td>\n",
       "    </tr>\n",
       "    <tr>\n",
       "      <th>17 BROOKLYN</th>\n",
       "      <td>191720</td>\n",
       "    </tr>\n",
       "    <tr>\n",
       "      <th>18 BROOKLYN</th>\n",
       "      <td>156100</td>\n",
       "    </tr>\n",
       "  </tbody>\n",
       "</table>\n",
       "</div>"
      ],
      "text/plain": [
       "                  Number of Complaints\n",
       "Community Board                       \n",
       "01 BRONX                         74631\n",
       "01 BROOKLYN                     185057\n",
       "01 MANHATTAN                     77974\n",
       "01 QUEENS                       171484\n",
       "01 STATEN ISLAND                182713\n",
       "02 BRONX                         60257\n",
       "02 BROOKLYN                     121022\n",
       "02 MANHATTAN                    133860\n",
       "02 QUEENS                       114333\n",
       "02 STATEN ISLAND                121132\n",
       "03 BRONX                         75134\n",
       "03 BROOKLYN                     197306\n",
       "03 MANHATTAN                    150296\n",
       "03 QUEENS                       122009\n",
       "03 STATEN ISLAND                136487\n",
       "04 BRONX                        181953\n",
       "04 BROOKLYN                     139706\n",
       "04 MANHATTAN                    132660\n",
       "04 QUEENS                        99316\n",
       "05 BRONX                        161078\n",
       "05 BROOKLYN                     189765\n",
       "05 MANHATTAN                    142028\n",
       "05 QUEENS                       168570\n",
       "06 BRONX                         99547\n",
       "06 BROOKLYN                     114029\n",
       "06 MANHATTAN                    104249\n",
       "06 QUEENS                        90938\n",
       "07 BRONX                        185729\n",
       "07 BROOKLYN                     107031\n",
       "07 MANHATTAN                    151419\n",
       "07 QUEENS                       195961\n",
       "08 BRONX                         92733\n",
       "08 BROOKLYN                     141119\n",
       "08 MANHATTAN                    149076\n",
       "08 QUEENS                       123131\n",
       "09 BRONX                        147457\n",
       "09 BROOKLYN                     135833\n",
       "09 MANHATTAN                    127565\n",
       "09 QUEENS                       151242\n",
       "10 BRONX                         95496\n",
       "10 BROOKLYN                     111837\n",
       "10 MANHATTAN                    137344\n",
       "10 QUEENS                       128116\n",
       "11 BRONX                        122081\n",
       "11 BROOKLYN                     139890\n",
       "11 MANHATTAN                     95413\n",
       "11 QUEENS                       101908\n",
       "12 BRONX                        168455\n",
       "12 BROOKLYN                     150320\n",
       "12 MANHATTAN                    268053\n",
       "12 QUEENS                       229383\n",
       "13 BROOKLYN                      72362\n",
       "13 QUEENS                       163851\n",
       "14 BROOKLYN                     187794\n",
       "14 QUEENS                       103396\n",
       "15 BROOKLYN                     146129\n",
       "16 BROOKLYN                      85467\n",
       "17 BROOKLYN                     191720\n",
       "18 BROOKLYN                     156100"
      ]
     },
     "execution_count": 84,
     "metadata": {},
     "output_type": "execute_result"
    }
   ],
   "source": [
    "community_complaints"
   ]
  },
  {
   "cell_type": "code",
   "execution_count": null,
   "metadata": {
    "collapsed": true
   },
   "outputs": [],
   "source": [
    "# Safe reduced data frame (Community District level)"
   ]
  },
  {
   "cell_type": "markdown",
   "metadata": {},
   "source": [
    "# 4. Think about the interpretation of your results?\n",
    "What do you have to keep in mind when interpreting your results? Are they generable? Does the way the data is collected influence your results? To better inform city agancies it might be good to explore in more detail the underlying dempgraphics/infrastructure of a Community District becasue this might influence 311 calls. You can do this by merging external data on the Community District level to your analysis data. "
   ]
  },
  {
   "cell_type": "code",
   "execution_count": 71,
   "metadata": {
    "collapsed": false
   },
   "outputs": [
    {
     "data": {
      "text/html": [
       "<div>\n",
       "<table border=\"1\" class=\"dataframe\">\n",
       "  <thead>\n",
       "    <tr style=\"text-align: right;\">\n",
       "      <th></th>\n",
       "      <th>FIPS</th>\n",
       "      <th>cd_id</th>\n",
       "      <th>Total Population</th>\n",
       "      <th>Population Density (per sq. mile)</th>\n",
       "      <th>% Total Population: Male</th>\n",
       "      <th>% Total Population: 18 to 24 Years</th>\n",
       "      <th>% Total Population: 25 to 34 Years</th>\n",
       "      <th>% Total Population: 35 to 44 Years</th>\n",
       "      <th>% Population 5 Years And Over: Speak Only English</th>\n",
       "      <th>% Population 5 Years And Over: Spanish or Spanish Creole</th>\n",
       "      <th>...</th>\n",
       "      <th>Employed Civilian Population 16 Years And Over: Production, transportation, and material moving  occupations: Production occupations</th>\n",
       "      <th>Employed Civilian Population 16 Years And Over: Production, transportation, and material moving  occupations: Transportation and material moving occupations</th>\n",
       "      <th>% Employed Civilian Population 16 Years And Over: Management, professional, and related occupations</th>\n",
       "      <th>% Employed Civilian Population 16 Years And Over: Service occupations</th>\n",
       "      <th>% Employed Civilian Population 16 Years And Over: Sales and office occupations</th>\n",
       "      <th>% Employed Civilian Population 16 Years And Over: Farming, fishing, and forestry occupations</th>\n",
       "      <th>% Employed Civilian Population 16 Years And Over: Construction, extraction, and maintenance  occupations</th>\n",
       "      <th>% Employed Civilian Population 16 Years And Over: Production, transportation, and material moving  occupations</th>\n",
       "      <th>% Employed Civilian Population 16 Years And Over: Production, transportation, and material moving  occupations: Production occupations</th>\n",
       "      <th>% Employed Civilian Population 16 Years And Over: Production, transportation, and material moving  occupations: Transportation and material moving occupations</th>\n",
       "    </tr>\n",
       "  </thead>\n",
       "  <tbody>\n",
       "    <tr>\n",
       "      <th>0</th>\n",
       "      <td>3603701</td>\n",
       "      <td>BX08</td>\n",
       "      <td>106737</td>\n",
       "      <td>31229.95006</td>\n",
       "      <td>46.65</td>\n",
       "      <td>10.73</td>\n",
       "      <td>15.04</td>\n",
       "      <td>11.32</td>\n",
       "      <td>46.80</td>\n",
       "      <td>39.24</td>\n",
       "      <td>...</td>\n",
       "      <td>665</td>\n",
       "      <td>1518</td>\n",
       "      <td>42.66</td>\n",
       "      <td>28.95</td>\n",
       "      <td>20.89</td>\n",
       "      <td>0.24</td>\n",
       "      <td>2.65</td>\n",
       "      <td>4.60</td>\n",
       "      <td>1.40</td>\n",
       "      <td>3.20</td>\n",
       "    </tr>\n",
       "    <tr>\n",
       "      <th>1</th>\n",
       "      <td>3603702</td>\n",
       "      <td>BX12</td>\n",
       "      <td>134644</td>\n",
       "      <td>19966.67839</td>\n",
       "      <td>46.35</td>\n",
       "      <td>11.35</td>\n",
       "      <td>14.29</td>\n",
       "      <td>12.57</td>\n",
       "      <td>73.09</td>\n",
       "      <td>18.19</td>\n",
       "      <td>...</td>\n",
       "      <td>1156</td>\n",
       "      <td>4174</td>\n",
       "      <td>29.57</td>\n",
       "      <td>33.98</td>\n",
       "      <td>20.40</td>\n",
       "      <td>0.00</td>\n",
       "      <td>7.08</td>\n",
       "      <td>8.97</td>\n",
       "      <td>1.95</td>\n",
       "      <td>7.02</td>\n",
       "    </tr>\n",
       "    <tr>\n",
       "      <th>2</th>\n",
       "      <td>3603703</td>\n",
       "      <td>BX10</td>\n",
       "      <td>121209</td>\n",
       "      <td>12913.81703</td>\n",
       "      <td>45.20</td>\n",
       "      <td>8.62</td>\n",
       "      <td>13.74</td>\n",
       "      <td>12.78</td>\n",
       "      <td>61.79</td>\n",
       "      <td>26.43</td>\n",
       "      <td>...</td>\n",
       "      <td>941</td>\n",
       "      <td>3433</td>\n",
       "      <td>36.20</td>\n",
       "      <td>22.85</td>\n",
       "      <td>25.09</td>\n",
       "      <td>0.00</td>\n",
       "      <td>7.68</td>\n",
       "      <td>8.18</td>\n",
       "      <td>1.76</td>\n",
       "      <td>6.42</td>\n",
       "    </tr>\n",
       "    <tr>\n",
       "      <th>3</th>\n",
       "      <td>3603704</td>\n",
       "      <td>BX11</td>\n",
       "      <td>135839</td>\n",
       "      <td>35677.95453</td>\n",
       "      <td>50.09</td>\n",
       "      <td>8.10</td>\n",
       "      <td>17.43</td>\n",
       "      <td>14.09</td>\n",
       "      <td>43.22</td>\n",
       "      <td>36.45</td>\n",
       "      <td>...</td>\n",
       "      <td>2189</td>\n",
       "      <td>5592</td>\n",
       "      <td>30.06</td>\n",
       "      <td>27.86</td>\n",
       "      <td>22.24</td>\n",
       "      <td>0.00</td>\n",
       "      <td>7.03</td>\n",
       "      <td>12.81</td>\n",
       "      <td>3.60</td>\n",
       "      <td>9.20</td>\n",
       "    </tr>\n",
       "    <tr>\n",
       "      <th>4</th>\n",
       "      <td>3603705</td>\n",
       "      <td>BX03</td>\n",
       "      <td>172247</td>\n",
       "      <td>39405.79222</td>\n",
       "      <td>44.72</td>\n",
       "      <td>14.24</td>\n",
       "      <td>14.89</td>\n",
       "      <td>12.38</td>\n",
       "      <td>36.82</td>\n",
       "      <td>54.24</td>\n",
       "      <td>...</td>\n",
       "      <td>1437</td>\n",
       "      <td>5436</td>\n",
       "      <td>16.80</td>\n",
       "      <td>41.00</td>\n",
       "      <td>22.29</td>\n",
       "      <td>0.03</td>\n",
       "      <td>8.45</td>\n",
       "      <td>11.43</td>\n",
       "      <td>2.39</td>\n",
       "      <td>9.04</td>\n",
       "    </tr>\n",
       "  </tbody>\n",
       "</table>\n",
       "<p>5 rows × 158 columns</p>\n",
       "</div>"
      ],
      "text/plain": [
       "      FIPS cd_id  Total Population  Population Density (per sq. mile)  \\\n",
       "0  3603701  BX08            106737                        31229.95006   \n",
       "1  3603702  BX12            134644                        19966.67839   \n",
       "2  3603703  BX10            121209                        12913.81703   \n",
       "3  3603704  BX11            135839                        35677.95453   \n",
       "4  3603705  BX03            172247                        39405.79222   \n",
       "\n",
       "   % Total Population: Male  % Total Population: 18 to 24 Years  \\\n",
       "0                     46.65                               10.73   \n",
       "1                     46.35                               11.35   \n",
       "2                     45.20                                8.62   \n",
       "3                     50.09                                8.10   \n",
       "4                     44.72                               14.24   \n",
       "\n",
       "   % Total Population: 25 to 34 Years  % Total Population: 35 to 44 Years  \\\n",
       "0                               15.04                               11.32   \n",
       "1                               14.29                               12.57   \n",
       "2                               13.74                               12.78   \n",
       "3                               17.43                               14.09   \n",
       "4                               14.89                               12.38   \n",
       "\n",
       "   % Population 5 Years And Over: Speak Only English  \\\n",
       "0                                              46.80   \n",
       "1                                              73.09   \n",
       "2                                              61.79   \n",
       "3                                              43.22   \n",
       "4                                              36.82   \n",
       "\n",
       "   % Population 5 Years And Over: Spanish or Spanish Creole  \\\n",
       "0                                              39.24          \n",
       "1                                              18.19          \n",
       "2                                              26.43          \n",
       "3                                              36.45          \n",
       "4                                              54.24          \n",
       "\n",
       "                                                                                ...                                                                                \\\n",
       "0                                                                               ...                                                                                 \n",
       "1                                                                               ...                                                                                 \n",
       "2                                                                               ...                                                                                 \n",
       "3                                                                               ...                                                                                 \n",
       "4                                                                               ...                                                                                 \n",
       "\n",
       "   Employed Civilian Population 16 Years And Over: Production, transportation, and material moving  occupations: Production occupations  \\\n",
       "0                                                665                                                                                      \n",
       "1                                               1156                                                                                      \n",
       "2                                                941                                                                                      \n",
       "3                                               2189                                                                                      \n",
       "4                                               1437                                                                                      \n",
       "\n",
       "   Employed Civilian Population 16 Years And Over: Production, transportation, and material moving  occupations: Transportation and material moving occupations  \\\n",
       "0                                               1518                                                                                                              \n",
       "1                                               4174                                                                                                              \n",
       "2                                               3433                                                                                                              \n",
       "3                                               5592                                                                                                              \n",
       "4                                               5436                                                                                                              \n",
       "\n",
       "   % Employed Civilian Population 16 Years And Over: Management, professional, and related occupations  \\\n",
       "0                                              42.66                                                     \n",
       "1                                              29.57                                                     \n",
       "2                                              36.20                                                     \n",
       "3                                              30.06                                                     \n",
       "4                                              16.80                                                     \n",
       "\n",
       "   % Employed Civilian Population 16 Years And Over: Service occupations  \\\n",
       "0                                              28.95                       \n",
       "1                                              33.98                       \n",
       "2                                              22.85                       \n",
       "3                                              27.86                       \n",
       "4                                              41.00                       \n",
       "\n",
       "   % Employed Civilian Population 16 Years And Over: Sales and office occupations  \\\n",
       "0                                              20.89                                \n",
       "1                                              20.40                                \n",
       "2                                              25.09                                \n",
       "3                                              22.24                                \n",
       "4                                              22.29                                \n",
       "\n",
       "   % Employed Civilian Population 16 Years And Over: Farming, fishing, and forestry occupations  \\\n",
       "0                                               0.24                                              \n",
       "1                                               0.00                                              \n",
       "2                                               0.00                                              \n",
       "3                                               0.00                                              \n",
       "4                                               0.03                                              \n",
       "\n",
       "   % Employed Civilian Population 16 Years And Over: Construction, extraction, and maintenance  occupations  \\\n",
       "0                                               2.65                                                          \n",
       "1                                               7.08                                                          \n",
       "2                                               7.68                                                          \n",
       "3                                               7.03                                                          \n",
       "4                                               8.45                                                          \n",
       "\n",
       "   % Employed Civilian Population 16 Years And Over: Production, transportation, and material moving  occupations  \\\n",
       "0                                               4.60                                                                \n",
       "1                                               8.97                                                                \n",
       "2                                               8.18                                                                \n",
       "3                                              12.81                                                                \n",
       "4                                              11.43                                                                \n",
       "\n",
       "   % Employed Civilian Population 16 Years And Over: Production, transportation, and material moving  occupations: Production occupations  \\\n",
       "0                                               1.40                                                                                        \n",
       "1                                               1.95                                                                                        \n",
       "2                                               1.76                                                                                        \n",
       "3                                               3.60                                                                                        \n",
       "4                                               2.39                                                                                        \n",
       "\n",
       "   % Employed Civilian Population 16 Years And Over: Production, transportation, and material moving  occupations: Transportation and material moving occupations  \n",
       "0                                               3.20                                                                                                               \n",
       "1                                               7.02                                                                                                               \n",
       "2                                               6.42                                                                                                               \n",
       "3                                               9.20                                                                                                               \n",
       "4                                               9.04                                                                                                               \n",
       "\n",
       "[5 rows x 158 columns]"
      ]
     },
     "execution_count": 71,
     "metadata": {},
     "output_type": "execute_result"
    }
   ],
   "source": [
    "# Population by Community District\n",
    "df_pop = pd.read_csv(\"http://cosmo.nyu.edu/~fb55/PUI2016/data//Final_Demographics.csv\")\n",
    "df_pop.head()"
   ]
  },
  {
   "cell_type": "code",
   "execution_count": null,
   "metadata": {
    "collapsed": false
   },
   "outputs": [],
   "source": [
    "# Check variables in file"
   ]
  },
  {
   "cell_type": "code",
   "execution_count": 72,
   "metadata": {
    "collapsed": false
   },
   "outputs": [
    {
     "data": {
      "text/plain": [
       "Index(['FIPS', 'cd_id', 'Total Population',\n",
       "       'Population Density (per sq. mile)', '% Total Population: Male',\n",
       "       '% Total Population: 18 to 24 Years',\n",
       "       '% Total Population: 25 to 34 Years',\n",
       "       '% Total Population: 35 to 44 Years',\n",
       "       '% Population 5 Years And Over: Speak Only English',\n",
       "       '% Population 5 Years And Over: Spanish or Spanish Creole',\n",
       "       ...\n",
       "       'Employed Civilian Population 16 Years And Over: Production, transportation, and material moving  occupations: Production occupations',\n",
       "       'Employed Civilian Population 16 Years And Over: Production, transportation, and material moving  occupations: Transportation and material moving occupations',\n",
       "       '% Employed Civilian Population 16 Years And Over: Management, professional, and related occupations',\n",
       "       '% Employed Civilian Population 16 Years And Over: Service occupations',\n",
       "       '% Employed Civilian Population 16 Years And Over: Sales and office occupations',\n",
       "       '% Employed Civilian Population 16 Years And Over: Farming, fishing, and forestry occupations',\n",
       "       '% Employed Civilian Population 16 Years And Over: Construction, extraction, and maintenance  occupations',\n",
       "       '% Employed Civilian Population 16 Years And Over: Production, transportation, and material moving  occupations',\n",
       "       '% Employed Civilian Population 16 Years And Over: Production, transportation, and material moving  occupations: Production occupations',\n",
       "       '% Employed Civilian Population 16 Years And Over: Production, transportation, and material moving  occupations: Transportation and material moving occupations'],\n",
       "      dtype='object', length=158)"
      ]
     },
     "execution_count": 72,
     "metadata": {},
     "output_type": "execute_result"
    }
   ],
   "source": [
    "df_pop.columns"
   ]
  },
  {
   "cell_type": "code",
   "execution_count": null,
   "metadata": {
    "collapsed": false
   },
   "outputs": [],
   "source": [
    "# How many community districts are in file? "
   ]
  },
  {
   "cell_type": "code",
   "execution_count": 73,
   "metadata": {
    "collapsed": false
   },
   "outputs": [
    {
     "data": {
      "text/plain": [
       "59"
      ]
     },
     "execution_count": 73,
     "metadata": {},
     "output_type": "execute_result"
    }
   ],
   "source": [
    "len(df_pop['cd_id'].unique())"
   ]
  },
  {
   "cell_type": "code",
   "execution_count": null,
   "metadata": {
    "collapsed": true
   },
   "outputs": [],
   "source": [
    "# Manipulate data to get some information on demographics by Community District. \n",
    "# Think about who might be more likely to call 311"
   ]
  },
  {
   "cell_type": "code",
   "execution_count": 74,
   "metadata": {
    "collapsed": false
   },
   "outputs": [
    {
     "data": {
      "text/html": [
       "<div>\n",
       "<table border=\"1\" class=\"dataframe\">\n",
       "  <thead>\n",
       "    <tr style=\"text-align: right;\">\n",
       "      <th></th>\n",
       "      <th>cd_id</th>\n",
       "      <th>young</th>\n",
       "    </tr>\n",
       "  </thead>\n",
       "  <tbody>\n",
       "    <tr>\n",
       "      <th>0</th>\n",
       "      <td>BX08</td>\n",
       "      <td>10.73</td>\n",
       "    </tr>\n",
       "    <tr>\n",
       "      <th>1</th>\n",
       "      <td>BX12</td>\n",
       "      <td>11.35</td>\n",
       "    </tr>\n",
       "    <tr>\n",
       "      <th>2</th>\n",
       "      <td>BX10</td>\n",
       "      <td>8.62</td>\n",
       "    </tr>\n",
       "    <tr>\n",
       "      <th>3</th>\n",
       "      <td>BX11</td>\n",
       "      <td>8.10</td>\n",
       "    </tr>\n",
       "    <tr>\n",
       "      <th>4</th>\n",
       "      <td>BX03</td>\n",
       "      <td>14.24</td>\n",
       "    </tr>\n",
       "  </tbody>\n",
       "</table>\n",
       "</div>"
      ],
      "text/plain": [
       "  cd_id  young\n",
       "0  BX08  10.73\n",
       "1  BX12  11.35\n",
       "2  BX10   8.62\n",
       "3  BX11   8.10\n",
       "4  BX03  14.24"
      ]
     },
     "execution_count": 74,
     "metadata": {},
     "output_type": "execute_result"
    }
   ],
   "source": [
    "# % Total Population: 18 to 24 Years\n",
    "\n",
    "comm_demo = df_pop[['cd_id', '% Total Population: 18 to 24 Years']]\n",
    "comm_demo.columns = ['cd_id', 'young']\n",
    "comm_demo.head()\n",
    "\n"
   ]
  },
  {
   "cell_type": "code",
   "execution_count": null,
   "metadata": {
    "collapsed": true
   },
   "outputs": [],
   "source": [
    "# Save data frame"
   ]
  },
  {
   "cell_type": "code",
   "execution_count": 75,
   "metadata": {
    "collapsed": false
   },
   "outputs": [
    {
     "data": {
      "text/html": [
       "<div>\n",
       "<table border=\"1\" class=\"dataframe\">\n",
       "  <thead>\n",
       "    <tr style=\"text-align: right;\">\n",
       "      <th></th>\n",
       "      <th>FIPS</th>\n",
       "      <th>Geographic Identifier</th>\n",
       "      <th>Qualifying Name</th>\n",
       "      <th>Households</th>\n",
       "      <th>Households: With An Internet Subscription</th>\n",
       "      <th>Households: Dial-Up Alone</th>\n",
       "      <th>Households: Dsl</th>\n",
       "      <th>Households: With Mobile Broadband</th>\n",
       "      <th>Households: Without Mobile Broadband</th>\n",
       "      <th>Households: Cable Modem</th>\n",
       "      <th>...</th>\n",
       "      <th>Households: Mobile Broadband Alone or With Dialup</th>\n",
       "      <th>Households: Internet Access Without A Subscription</th>\n",
       "      <th>Households: No Internet Access</th>\n",
       "      <th>% Households: With An Internet Subscription</th>\n",
       "      <th>Households.1</th>\n",
       "      <th>Households: Has A Computer</th>\n",
       "      <th>Households: With Dial-Up Internet Subscription Alone</th>\n",
       "      <th>Households: With A Broadband Internet Subscription</th>\n",
       "      <th>Households: Without An Internet Subscription</th>\n",
       "      <th>Households: No Computer</th>\n",
       "    </tr>\n",
       "  </thead>\n",
       "  <tbody>\n",
       "    <tr>\n",
       "      <th>0</th>\n",
       "      <td>3603701</td>\n",
       "      <td>79500US3603701</td>\n",
       "      <td>NYC-Bronx Community District 8--Riverdale, New...</td>\n",
       "      <td>42035</td>\n",
       "      <td>31795</td>\n",
       "      <td>444</td>\n",
       "      <td>2813</td>\n",
       "      <td>946</td>\n",
       "      <td>1867</td>\n",
       "      <td>19178</td>\n",
       "      <td>...</td>\n",
       "      <td>2168</td>\n",
       "      <td>2119</td>\n",
       "      <td>8121</td>\n",
       "      <td>75.64</td>\n",
       "      <td>42035</td>\n",
       "      <td>35048</td>\n",
       "      <td>404</td>\n",
       "      <td>30943</td>\n",
       "      <td>3701</td>\n",
       "      <td>6987</td>\n",
       "    </tr>\n",
       "    <tr>\n",
       "      <th>1</th>\n",
       "      <td>3603702</td>\n",
       "      <td>79500US3603702</td>\n",
       "      <td>NYC-Bronx Community District 12--Wakefield, Ne...</td>\n",
       "      <td>44830</td>\n",
       "      <td>32243</td>\n",
       "      <td>178</td>\n",
       "      <td>849</td>\n",
       "      <td>405</td>\n",
       "      <td>444</td>\n",
       "      <td>18653</td>\n",
       "      <td>...</td>\n",
       "      <td>928</td>\n",
       "      <td>1891</td>\n",
       "      <td>10696</td>\n",
       "      <td>71.92</td>\n",
       "      <td>44830</td>\n",
       "      <td>36700</td>\n",
       "      <td>178</td>\n",
       "      <td>31435</td>\n",
       "      <td>5087</td>\n",
       "      <td>8130</td>\n",
       "    </tr>\n",
       "    <tr>\n",
       "      <th>2</th>\n",
       "      <td>3603703</td>\n",
       "      <td>79500US3603703</td>\n",
       "      <td>NYC-Bronx Community District 10--Co-op City, N...</td>\n",
       "      <td>47050</td>\n",
       "      <td>32729</td>\n",
       "      <td>158</td>\n",
       "      <td>1863</td>\n",
       "      <td>398</td>\n",
       "      <td>1465</td>\n",
       "      <td>20044</td>\n",
       "      <td>...</td>\n",
       "      <td>639</td>\n",
       "      <td>2882</td>\n",
       "      <td>11439</td>\n",
       "      <td>69.56</td>\n",
       "      <td>47050</td>\n",
       "      <td>38700</td>\n",
       "      <td>158</td>\n",
       "      <td>32333</td>\n",
       "      <td>6209</td>\n",
       "      <td>8350</td>\n",
       "    </tr>\n",
       "    <tr>\n",
       "      <th>3</th>\n",
       "      <td>3603704</td>\n",
       "      <td>79500US3603704</td>\n",
       "      <td>NYC-Bronx Community District 11--Pelham Parkwa...</td>\n",
       "      <td>44922</td>\n",
       "      <td>32003</td>\n",
       "      <td>141</td>\n",
       "      <td>1478</td>\n",
       "      <td>474</td>\n",
       "      <td>1004</td>\n",
       "      <td>17917</td>\n",
       "      <td>...</td>\n",
       "      <td>1001</td>\n",
       "      <td>2722</td>\n",
       "      <td>10197</td>\n",
       "      <td>71.24</td>\n",
       "      <td>44922</td>\n",
       "      <td>37237</td>\n",
       "      <td>122</td>\n",
       "      <td>31278</td>\n",
       "      <td>5837</td>\n",
       "      <td>7685</td>\n",
       "    </tr>\n",
       "    <tr>\n",
       "      <th>4</th>\n",
       "      <td>3603705</td>\n",
       "      <td>79500US3603705</td>\n",
       "      <td>NYC-Bronx Community District 3 &amp; 6--Belmont, N...</td>\n",
       "      <td>57556</td>\n",
       "      <td>35503</td>\n",
       "      <td>88</td>\n",
       "      <td>1297</td>\n",
       "      <td>651</td>\n",
       "      <td>646</td>\n",
       "      <td>15847</td>\n",
       "      <td>...</td>\n",
       "      <td>1385</td>\n",
       "      <td>3312</td>\n",
       "      <td>18741</td>\n",
       "      <td>61.68</td>\n",
       "      <td>57556</td>\n",
       "      <td>42576</td>\n",
       "      <td>88</td>\n",
       "      <td>33408</td>\n",
       "      <td>9080</td>\n",
       "      <td>14980</td>\n",
       "    </tr>\n",
       "  </tbody>\n",
       "</table>\n",
       "<p>5 rows × 31 columns</p>\n",
       "</div>"
      ],
      "text/plain": [
       "      FIPS Geographic Identifier  \\\n",
       "0  3603701        79500US3603701   \n",
       "1  3603702        79500US3603702   \n",
       "2  3603703        79500US3603703   \n",
       "3  3603704        79500US3603704   \n",
       "4  3603705        79500US3603705   \n",
       "\n",
       "                                     Qualifying Name  Households  \\\n",
       "0  NYC-Bronx Community District 8--Riverdale, New...       42035   \n",
       "1  NYC-Bronx Community District 12--Wakefield, Ne...       44830   \n",
       "2  NYC-Bronx Community District 10--Co-op City, N...       47050   \n",
       "3  NYC-Bronx Community District 11--Pelham Parkwa...       44922   \n",
       "4  NYC-Bronx Community District 3 & 6--Belmont, N...       57556   \n",
       "\n",
       "   Households: With An Internet Subscription  Households: Dial-Up Alone  \\\n",
       "0                                      31795                        444   \n",
       "1                                      32243                        178   \n",
       "2                                      32729                        158   \n",
       "3                                      32003                        141   \n",
       "4                                      35503                         88   \n",
       "\n",
       "   Households: Dsl  Households: With Mobile Broadband  \\\n",
       "0             2813                                946   \n",
       "1              849                                405   \n",
       "2             1863                                398   \n",
       "3             1478                                474   \n",
       "4             1297                                651   \n",
       "\n",
       "   Households: Without Mobile Broadband  Households: Cable Modem  \\\n",
       "0                                  1867                    19178   \n",
       "1                                   444                    18653   \n",
       "2                                  1465                    20044   \n",
       "3                                  1004                    17917   \n",
       "4                                   646                    15847   \n",
       "\n",
       "            ...             Households: Mobile Broadband Alone or With Dialup  \\\n",
       "0           ...                                                          2168   \n",
       "1           ...                                                           928   \n",
       "2           ...                                                           639   \n",
       "3           ...                                                          1001   \n",
       "4           ...                                                          1385   \n",
       "\n",
       "   Households: Internet Access Without A Subscription  \\\n",
       "0                                               2119    \n",
       "1                                               1891    \n",
       "2                                               2882    \n",
       "3                                               2722    \n",
       "4                                               3312    \n",
       "\n",
       "   Households: No Internet Access  \\\n",
       "0                            8121   \n",
       "1                           10696   \n",
       "2                           11439   \n",
       "3                           10197   \n",
       "4                           18741   \n",
       "\n",
       "   % Households: With An Internet Subscription  Households.1  \\\n",
       "0                                        75.64         42035   \n",
       "1                                        71.92         44830   \n",
       "2                                        69.56         47050   \n",
       "3                                        71.24         44922   \n",
       "4                                        61.68         57556   \n",
       "\n",
       "   Households: Has A Computer  \\\n",
       "0                       35048   \n",
       "1                       36700   \n",
       "2                       38700   \n",
       "3                       37237   \n",
       "4                       42576   \n",
       "\n",
       "   Households: With Dial-Up Internet Subscription Alone  \\\n",
       "0                                                404      \n",
       "1                                                178      \n",
       "2                                                158      \n",
       "3                                                122      \n",
       "4                                                 88      \n",
       "\n",
       "   Households: With A Broadband Internet Subscription  \\\n",
       "0                                              30943    \n",
       "1                                              31435    \n",
       "2                                              32333    \n",
       "3                                              31278    \n",
       "4                                              33408    \n",
       "\n",
       "   Households: Without An Internet Subscription  Households: No Computer  \n",
       "0                                          3701                     6987  \n",
       "1                                          5087                     8130  \n",
       "2                                          6209                     8350  \n",
       "3                                          5837                     7685  \n",
       "4                                          9080                    14980  \n",
       "\n",
       "[5 rows x 31 columns]"
      ]
     },
     "execution_count": 75,
     "metadata": {},
     "output_type": "execute_result"
    }
   ],
   "source": [
    "# Infrastructure by Community District\n",
    "df_infr = pd.read_csv(\"http://cosmo.nyu.edu/~fb55/PUI2016/data//ACS_Computer_Use_and_Internet_2014_1Year_Estimate.csv\")\n",
    "df_infr.head()"
   ]
  },
  {
   "cell_type": "code",
   "execution_count": 76,
   "metadata": {
    "collapsed": false
   },
   "outputs": [
    {
     "data": {
      "text/plain": [
       "Index(['FIPS', 'Geographic Identifier', 'Qualifying Name', 'Households',\n",
       "       'Households: With An Internet Subscription',\n",
       "       'Households: Dial-Up Alone', 'Households: Dsl',\n",
       "       'Households: With Mobile Broadband',\n",
       "       'Households: Without Mobile Broadband', 'Households: Cable Modem',\n",
       "       'Households: With Mobile Broadband.1',\n",
       "       'Households: Without Mobile Broadband.1', 'Households: Fiber-Optic',\n",
       "       'Households: With Mobile Broadband.2',\n",
       "       'Households: Without Mobile Broadband.2',\n",
       "       'Households: Satellite Internet Service',\n",
       "       'Households: With Mobile Broadband.3',\n",
       "       'Households: Without Mobile Broadband.3',\n",
       "       'Households: Two or More Fixed Broadband Types, or Other',\n",
       "       'Households: With Mobile Broadband.4',\n",
       "       'Households: Without Mobile Broadband.4',\n",
       "       'Households: Mobile Broadband Alone or With Dialup',\n",
       "       'Households: Internet Access Without A Subscription',\n",
       "       'Households: No Internet Access',\n",
       "       '% Households: With An Internet Subscription', 'Households.1',\n",
       "       'Households: Has A Computer',\n",
       "       'Households: With Dial-Up Internet Subscription Alone',\n",
       "       'Households: With A Broadband Internet Subscription',\n",
       "       'Households: Without An Internet Subscription',\n",
       "       'Households: No Computer'],\n",
       "      dtype='object')"
      ]
     },
     "execution_count": 76,
     "metadata": {},
     "output_type": "execute_result"
    }
   ],
   "source": [
    "# Check variables in file\n",
    "df_infr.columns"
   ]
  },
  {
   "cell_type": "code",
   "execution_count": 77,
   "metadata": {
    "collapsed": false
   },
   "outputs": [
    {
     "data": {
      "text/plain": [
       "55"
      ]
     },
     "execution_count": 77,
     "metadata": {},
     "output_type": "execute_result"
    }
   ],
   "source": [
    "# How many community districts are in file? \n",
    "len(df_infr['Qualifying Name'].unique())"
   ]
  },
  {
   "cell_type": "code",
   "execution_count": null,
   "metadata": {
    "collapsed": true
   },
   "outputs": [],
   "source": [
    "# Manipulate data to get some information on internet/broadband useage by Community District\n",
    "# Aggregate the mobile subscription data"
   ]
  },
  {
   "cell_type": "code",
   "execution_count": 81,
   "metadata": {
    "collapsed": false
   },
   "outputs": [
    {
     "name": "stderr",
     "output_type": "stream",
     "text": [
      "/opt/rh/anaconda/root/envs/PUI2016_Python3/lib/python3.5/site-packages/ipykernel/__main__.py:4: SettingWithCopyWarning: \n",
      "A value is trying to be set on a copy of a slice from a DataFrame.\n",
      "Try using .loc[row_indexer,col_indexer] = value instead\n",
      "\n",
      "See the caveats in the documentation: http://pandas.pydata.org/pandas-docs/stable/indexing.html#indexing-view-versus-copy\n",
      "/opt/rh/anaconda/root/envs/PUI2016_Python3/lib/python3.5/site-packages/ipykernel/__main__.py:5: SettingWithCopyWarning: \n",
      "A value is trying to be set on a copy of a slice from a DataFrame\n",
      "\n",
      "See the caveats in the documentation: http://pandas.pydata.org/pandas-docs/stable/indexing.html#indexing-view-versus-copy\n"
     ]
    },
    {
     "data": {
      "text/html": [
       "<div>\n",
       "<table border=\"1\" class=\"dataframe\">\n",
       "  <thead>\n",
       "    <tr style=\"text-align: right;\">\n",
       "      <th></th>\n",
       "      <th>Community Name</th>\n",
       "      <th>with_internet</th>\n",
       "    </tr>\n",
       "  </thead>\n",
       "  <tbody>\n",
       "    <tr>\n",
       "      <th>0</th>\n",
       "      <td>NYC-Bronx Community District 8--Riverdale, New...</td>\n",
       "      <td>31347</td>\n",
       "    </tr>\n",
       "    <tr>\n",
       "      <th>1</th>\n",
       "      <td>NYC-Bronx Community District 12--Wakefield, Ne...</td>\n",
       "      <td>31613</td>\n",
       "    </tr>\n",
       "    <tr>\n",
       "      <th>2</th>\n",
       "      <td>NYC-Bronx Community District 10--Co-op City, N...</td>\n",
       "      <td>32491</td>\n",
       "    </tr>\n",
       "    <tr>\n",
       "      <th>3</th>\n",
       "      <td>NYC-Bronx Community District 11--Pelham Parkwa...</td>\n",
       "      <td>31400</td>\n",
       "    </tr>\n",
       "    <tr>\n",
       "      <th>4</th>\n",
       "      <td>NYC-Bronx Community District 3 &amp; 6--Belmont, N...</td>\n",
       "      <td>33496</td>\n",
       "    </tr>\n",
       "    <tr>\n",
       "      <th>5</th>\n",
       "      <td>NYC-Bronx Community District 3 &amp; 6--Belmont, N...</td>\n",
       "      <td>33496</td>\n",
       "    </tr>\n",
       "    <tr>\n",
       "      <th>6</th>\n",
       "      <td>NYC-Bronx Community District 7--Bedford Park, ...</td>\n",
       "      <td>31021</td>\n",
       "    </tr>\n",
       "    <tr>\n",
       "      <th>7</th>\n",
       "      <td>NYC-Bronx Community District 5--Morris Heights...</td>\n",
       "      <td>25826</td>\n",
       "    </tr>\n",
       "    <tr>\n",
       "      <th>8</th>\n",
       "      <td>NYC-Bronx Community District 4--Concourse, New...</td>\n",
       "      <td>28287</td>\n",
       "    </tr>\n",
       "    <tr>\n",
       "      <th>9</th>\n",
       "      <td>NYC-Bronx Community District 9--Castle Hill, N...</td>\n",
       "      <td>45441</td>\n",
       "    </tr>\n",
       "  </tbody>\n",
       "</table>\n",
       "</div>"
      ],
      "text/plain": [
       "                                      Community Name  with_internet\n",
       "0  NYC-Bronx Community District 8--Riverdale, New...          31347\n",
       "1  NYC-Bronx Community District 12--Wakefield, Ne...          31613\n",
       "2  NYC-Bronx Community District 10--Co-op City, N...          32491\n",
       "3  NYC-Bronx Community District 11--Pelham Parkwa...          31400\n",
       "4  NYC-Bronx Community District 3 & 6--Belmont, N...          33496\n",
       "5  NYC-Bronx Community District 3 & 6--Belmont, N...          33496\n",
       "6  NYC-Bronx Community District 7--Bedford Park, ...          31021\n",
       "7  NYC-Bronx Community District 5--Morris Heights...          25826\n",
       "8  NYC-Bronx Community District 4--Concourse, New...          28287\n",
       "9  NYC-Bronx Community District 9--Castle Hill, N...          45441"
      ]
     },
     "execution_count": 81,
     "metadata": {},
     "output_type": "execute_result"
    }
   ],
   "source": [
    "comm_internet = df_infr[['Qualifying Name', 'Households: With Dial-Up Internet Subscription Alone', \n",
    "                              'Households: With A Broadband Internet Subscription']]\n",
    "comm_internet.columns = ['Community Name', 'low_internet_conection', 'high_internet_connection']\n",
    "comm_internet['with_internet'] = comm_internet['low_internet_conection'] + comm_internet['high_internet_connection']\n",
    "comm_internet.drop(['low_internet_conection', 'high_internet_connection'], axis=1, inplace=True)\n",
    "comm_internet.head(10)"
   ]
  },
  {
   "cell_type": "code",
   "execution_count": null,
   "metadata": {
    "collapsed": true
   },
   "outputs": [],
   "source": [
    "# Aggregate internet type by high and low connections"
   ]
  },
  {
   "cell_type": "code",
   "execution_count": null,
   "metadata": {
    "collapsed": true
   },
   "outputs": [],
   "source": [
    "# Save data frame "
   ]
  },
  {
   "cell_type": "markdown",
   "metadata": {},
   "source": [
    "# 5. Inform your results by linking datasets\n",
    "Now you want to link the three data frames to produce summary statistics for Community Districts which show a high number of complaints vs. Community Districts which show a lower number of complaints. Please keep in mind that the identifiers used for the linkage (Community Dostrict IDs) should be recored the same way. Use regular expressions to harmonize the identifiers if possible. The identifiers should look like BK01, BK02, etc.\n",
    "https://docs.python.org/2/library/re.html"
   ]
  },
  {
   "cell_type": "code",
   "execution_count": null,
   "metadata": {
    "collapsed": false
   },
   "outputs": [],
   "source": [
    "# Harmonize identifier of dataframe 1"
   ]
  },
  {
   "cell_type": "code",
   "execution_count": 90,
   "metadata": {
    "collapsed": false
   },
   "outputs": [],
   "source": [
    "comm_complaints = comm_complaints.reset_index()"
   ]
  },
  {
   "cell_type": "code",
   "execution_count": 91,
   "metadata": {
    "collapsed": false
   },
   "outputs": [
    {
     "data": {
      "text/plain": [
       "array(['01 BRONX', '01 BROOKLYN', '01 MANHATTAN', '01 QUEENS',\n",
       "       '01 STATEN ISLAND', '02 BRONX', '02 BROOKLYN', '02 MANHATTAN',\n",
       "       '02 QUEENS', '02 STATEN ISLAND', '03 BRONX', '03 BROOKLYN',\n",
       "       '03 MANHATTAN', '03 QUEENS', '03 STATEN ISLAND', '04 BRONX',\n",
       "       '04 BROOKLYN', '04 MANHATTAN', '04 QUEENS', '05 BRONX',\n",
       "       '05 BROOKLYN', '05 MANHATTAN', '05 QUEENS', '06 BRONX',\n",
       "       '06 BROOKLYN', '06 MANHATTAN', '06 QUEENS', '07 BRONX',\n",
       "       '07 BROOKLYN', '07 MANHATTAN', '07 QUEENS', '08 BRONX',\n",
       "       '08 BROOKLYN', '08 MANHATTAN', '08 QUEENS', '09 BRONX',\n",
       "       '09 BROOKLYN', '09 MANHATTAN', '09 QUEENS', '10 BRONX',\n",
       "       '10 BROOKLYN', '10 MANHATTAN', '10 QUEENS', '11 BRONX',\n",
       "       '11 BROOKLYN', '11 MANHATTAN', '11 QUEENS', '12 BRONX',\n",
       "       '12 BROOKLYN', '12 MANHATTAN', '12 QUEENS', '13 BROOKLYN',\n",
       "       '13 QUEENS', '14 BROOKLYN', '14 QUEENS', '15 BROOKLYN',\n",
       "       '16 BROOKLYN', '17 BROOKLYN', '18 BROOKLYN'], dtype=object)"
      ]
     },
     "execution_count": 91,
     "metadata": {},
     "output_type": "execute_result"
    }
   ],
   "source": [
    "comm_complaints[\"Community Board\"].unique()"
   ]
  },
  {
   "cell_type": "code",
   "execution_count": 97,
   "metadata": {
    "collapsed": false
   },
   "outputs": [
    {
     "data": {
      "text/html": [
       "<div>\n",
       "<table border=\"1\" class=\"dataframe\">\n",
       "  <thead>\n",
       "    <tr style=\"text-align: right;\">\n",
       "      <th></th>\n",
       "      <th>cd_id</th>\n",
       "      <th>Number of Complaints</th>\n",
       "    </tr>\n",
       "  </thead>\n",
       "  <tbody>\n",
       "    <tr>\n",
       "      <th>0</th>\n",
       "      <td>BX01</td>\n",
       "      <td>74631</td>\n",
       "    </tr>\n",
       "    <tr>\n",
       "      <th>1</th>\n",
       "      <td>BK01</td>\n",
       "      <td>185057</td>\n",
       "    </tr>\n",
       "    <tr>\n",
       "      <th>2</th>\n",
       "      <td>MN01</td>\n",
       "      <td>77974</td>\n",
       "    </tr>\n",
       "    <tr>\n",
       "      <th>3</th>\n",
       "      <td>QN01</td>\n",
       "      <td>171484</td>\n",
       "    </tr>\n",
       "    <tr>\n",
       "      <th>4</th>\n",
       "      <td>SI01</td>\n",
       "      <td>182713</td>\n",
       "    </tr>\n",
       "  </tbody>\n",
       "</table>\n",
       "</div>"
      ],
      "text/plain": [
       "  cd_id  Number of Complaints\n",
       "0  BX01                 74631\n",
       "1  BK01                185057\n",
       "2  MN01                 77974\n",
       "3  QN01                171484\n",
       "4  SI01                182713"
      ]
     },
     "execution_count": 97,
     "metadata": {},
     "output_type": "execute_result"
    }
   ],
   "source": [
    "cd_id = {'BRONX': 'BX', 'BROOKLYN': \n",
    "         'BK', 'MANHATTAN': 'MN', 'QUEENS': 'QN', 'STATEN ISLAND': 'SI'}\n",
    "\n",
    "\n",
    "comm_complaints['cd_num'] = comm_complaints['Community Board'].str[:2]\n",
    "comm_complaints['cd_bor'] = comm_complaints['Community Board'].str[3:]\n",
    "\n",
    "\n",
    "comm_complaints.replace({'cd_bor': cd_id}, inplace=True)\n",
    "comm_complaints['cd_id'] = comm_complaints.cd_bor + comm_complaints.cd_num\n",
    "comm_complaints_update = comm_complaints[[\"cd_id\", \"Number of Complaints\"]]\n",
    "\n",
    "comm_complaints_update.head()"
   ]
  },
  {
   "cell_type": "code",
   "execution_count": 98,
   "metadata": {
    "collapsed": false
   },
   "outputs": [
    {
     "data": {
      "text/plain": [
       "array(['BX08', 'BX12', 'BX10', 'BX11', 'BX03', 'BX06', 'BX07', 'BX05',\n",
       "       'BX04', 'BX09', 'BX01', 'BX02', 'MN12', 'MN09', 'MN10', 'MN11111',\n",
       "       'MN08', 'MN07', 'MN05', 'MN04', 'MN06', 'MN03', 'MN01', 'MN02',\n",
       "       'SI03', 'SI02', 'SI01', 'BK01', 'BK04', 'BK03', 'BK02', 'BK06',\n",
       "       'BK08', 'BK16', 'BK05', 'BK18', 'BK17', 'BK09', 'BK07', 'BK10',\n",
       "       'BK12', 'BK14', 'BK15', 'BK11', 'BK13', 'QN01', 'QN03', 'QN07',\n",
       "       'QN11', 'QN13', 'QN08', 'QN04', 'QN06', 'QN02', 'QN05', 'QN09',\n",
       "       'QN12', 'QN10', 'QN14'], dtype=object)"
      ]
     },
     "execution_count": 98,
     "metadata": {},
     "output_type": "execute_result"
    }
   ],
   "source": [
    "# Harmonize identifier of dataframe 2\n",
    "\n",
    "comm_demo['cd_id'].unique()"
   ]
  },
  {
   "cell_type": "code",
   "execution_count": 100,
   "metadata": {
    "collapsed": false
   },
   "outputs": [
    {
     "name": "stderr",
     "output_type": "stream",
     "text": [
      "/opt/rh/anaconda/root/envs/PUI2016_Python3/lib/python3.5/site-packages/ipykernel/__main__.py:1: SettingWithCopyWarning: \n",
      "A value is trying to be set on a copy of a slice from a DataFrame\n",
      "\n",
      "See the caveats in the documentation: http://pandas.pydata.org/pandas-docs/stable/indexing.html#indexing-view-versus-copy\n",
      "  if __name__ == '__main__':\n"
     ]
    },
    {
     "data": {
      "text/plain": [
       "array(['BX08', 'BX12', 'BX10', 'BX11', 'BX03', 'BX06', 'BX07', 'BX05',\n",
       "       'BX04', 'BX09', 'BX01', 'BX02', 'MN12', 'MN09', 'MN10', 'MN11',\n",
       "       'MN08', 'MN07', 'MN05', 'MN04', 'MN06', 'MN03', 'MN01', 'MN02',\n",
       "       'SI03', 'SI02', 'SI01', 'BK01', 'BK04', 'BK03', 'BK02', 'BK06',\n",
       "       'BK08', 'BK16', 'BK05', 'BK18', 'BK17', 'BK09', 'BK07', 'BK10',\n",
       "       'BK12', 'BK14', 'BK15', 'BK11', 'BK13', 'QN01', 'QN03', 'QN07',\n",
       "       'QN11', 'QN13', 'QN08', 'QN04', 'QN06', 'QN02', 'QN05', 'QN09',\n",
       "       'QN12', 'QN10', 'QN14'], dtype=object)"
      ]
     },
     "execution_count": 100,
     "metadata": {},
     "output_type": "execute_result"
    }
   ],
   "source": [
    "comm_demo.replace('MN11111', 'MN11', inplace=True)\n",
    "comm_demo['cd_id'].unique()"
   ]
  },
  {
   "cell_type": "code",
   "execution_count": null,
   "metadata": {
    "collapsed": true
   },
   "outputs": [],
   "source": [
    "# Harmonize identifier of dataframe 3"
   ]
  },
  {
   "cell_type": "code",
   "execution_count": 107,
   "metadata": {
    "collapsed": false
   },
   "outputs": [
    {
     "name": "stderr",
     "output_type": "stream",
     "text": [
      "/opt/rh/anaconda/root/envs/PUI2016_Python3/lib/python3.5/site-packages/ipykernel/__main__.py:4: SettingWithCopyWarning: \n",
      "A value is trying to be set on a copy of a slice from a DataFrame.\n",
      "Try using .loc[row_indexer,col_indexer] = value instead\n",
      "\n",
      "See the caveats in the documentation: http://pandas.pydata.org/pandas-docs/stable/indexing.html#indexing-view-versus-copy\n",
      "/opt/rh/anaconda/root/envs/PUI2016_Python3/lib/python3.5/site-packages/ipykernel/__main__.py:6: SettingWithCopyWarning: \n",
      "A value is trying to be set on a copy of a slice from a DataFrame.\n",
      "Try using .loc[row_indexer,col_indexer] = value instead\n",
      "\n",
      "See the caveats in the documentation: http://pandas.pydata.org/pandas-docs/stable/indexing.html#indexing-view-versus-copy\n",
      "/opt/rh/anaconda/root/envs/PUI2016_Python3/lib/python3.5/site-packages/ipykernel/__main__.py:8: SettingWithCopyWarning: \n",
      "A value is trying to be set on a copy of a slice from a DataFrame.\n",
      "Try using .loc[row_indexer,col_indexer] = value instead\n",
      "\n",
      "See the caveats in the documentation: http://pandas.pydata.org/pandas-docs/stable/indexing.html#indexing-view-versus-copy\n",
      "/opt/rh/anaconda/root/envs/PUI2016_Python3/lib/python3.5/site-packages/pandas/core/generic.py:3378: SettingWithCopyWarning: \n",
      "A value is trying to be set on a copy of a slice from a DataFrame.\n",
      "Try using .loc[row_indexer,col_indexer] = value instead\n",
      "\n",
      "See the caveats in the documentation: http://pandas.pydata.org/pandas-docs/stable/indexing.html#indexing-view-versus-copy\n",
      "  inplace=False, regex=regex)\n",
      "/opt/rh/anaconda/root/envs/PUI2016_Python3/lib/python3.5/site-packages/ipykernel/__main__.py:10: SettingWithCopyWarning: \n",
      "A value is trying to be set on a copy of a slice from a DataFrame.\n",
      "Try using .loc[row_indexer,col_indexer] = value instead\n",
      "\n",
      "See the caveats in the documentation: http://pandas.pydata.org/pandas-docs/stable/indexing.html#indexing-view-versus-copy\n"
     ]
    }
   ],
   "source": [
    "cd_id1 = {'Bronx': 'BX', 'Brooklyn': 'BK', 'Manhattan': 'MN', 'Queens': 'QN', 'Staten': 'SI'}\n",
    "\n",
    "comm_internet['cd_bor'] = comm_internet['Community Name'].str.extract('(?<=^....)([a-zA-Z]+)',\n",
    "                                                                      expand=True)\n",
    "comm_internet['cd_num'] = comm_internet['Community Name'].str.extract('([0-9]+)',\n",
    "                                                                                expand=True)\n",
    "\n",
    "comm_internet['cd_num'] = comm_internet['cd_num'].apply(lambda x: '{0:0>2}'.format(x))\n",
    "comm_internet.replace({'cd_bor': cd_id1}, inplace=True)\n",
    "comm_internet['cd_id'] = comm_internet.cd_bor + comm_internet.cd_num\n"
   ]
  },
  {
   "cell_type": "code",
   "execution_count": 110,
   "metadata": {
    "collapsed": false
   },
   "outputs": [
    {
     "name": "stderr",
     "output_type": "stream",
     "text": [
      "/opt/rh/anaconda/root/envs/PUI2016_Python3/lib/python3.5/site-packages/ipykernel/__main__.py:1: SettingWithCopyWarning: \n",
      "A value is trying to be set on a copy of a slice from a DataFrame\n",
      "\n",
      "See the caveats in the documentation: http://pandas.pydata.org/pandas-docs/stable/indexing.html#indexing-view-versus-copy\n",
      "  if __name__ == '__main__':\n"
     ]
    },
    {
     "data": {
      "text/html": [
       "<div>\n",
       "<table border=\"1\" class=\"dataframe\">\n",
       "  <thead>\n",
       "    <tr style=\"text-align: right;\">\n",
       "      <th></th>\n",
       "      <th>with_internet</th>\n",
       "      <th>cd_bor</th>\n",
       "      <th>cd_id</th>\n",
       "    </tr>\n",
       "  </thead>\n",
       "  <tbody>\n",
       "    <tr>\n",
       "      <th>0</th>\n",
       "      <td>31347</td>\n",
       "      <td>BX</td>\n",
       "      <td>BX08</td>\n",
       "    </tr>\n",
       "    <tr>\n",
       "      <th>1</th>\n",
       "      <td>31613</td>\n",
       "      <td>BX</td>\n",
       "      <td>BX12</td>\n",
       "    </tr>\n",
       "    <tr>\n",
       "      <th>2</th>\n",
       "      <td>32491</td>\n",
       "      <td>BX</td>\n",
       "      <td>BX10</td>\n",
       "    </tr>\n",
       "    <tr>\n",
       "      <th>3</th>\n",
       "      <td>31400</td>\n",
       "      <td>BX</td>\n",
       "      <td>BX11</td>\n",
       "    </tr>\n",
       "    <tr>\n",
       "      <th>4</th>\n",
       "      <td>33496</td>\n",
       "      <td>BX</td>\n",
       "      <td>BX03</td>\n",
       "    </tr>\n",
       "  </tbody>\n",
       "</table>\n",
       "</div>"
      ],
      "text/plain": [
       "   with_internet cd_bor cd_id\n",
       "0          31347     BX  BX08\n",
       "1          31613     BX  BX12\n",
       "2          32491     BX  BX10\n",
       "3          31400     BX  BX11\n",
       "4          33496     BX  BX03"
      ]
     },
     "execution_count": 110,
     "metadata": {},
     "output_type": "execute_result"
    }
   ],
   "source": [
    "comm_internet.drop(['Community Name', 'cd_num', 'cd_boro'], axis=1, inplace=True)\n",
    "comm_internet.head()"
   ]
  },
  {
   "cell_type": "code",
   "execution_count": null,
   "metadata": {
    "collapsed": false
   },
   "outputs": [],
   "source": [
    "# Link the 3 dataframes"
   ]
  },
  {
   "cell_type": "code",
   "execution_count": 111,
   "metadata": {
    "collapsed": false
   },
   "outputs": [
    {
     "data": {
      "text/html": [
       "<div>\n",
       "<table border=\"1\" class=\"dataframe\">\n",
       "  <thead>\n",
       "    <tr style=\"text-align: right;\">\n",
       "      <th></th>\n",
       "      <th>cd_id</th>\n",
       "      <th>young</th>\n",
       "      <th>Community Board</th>\n",
       "      <th>Number of Complaints</th>\n",
       "      <th>cd_num</th>\n",
       "      <th>cd_boro</th>\n",
       "      <th>cd_bor</th>\n",
       "    </tr>\n",
       "  </thead>\n",
       "  <tbody>\n",
       "    <tr>\n",
       "      <th>0</th>\n",
       "      <td>BX08</td>\n",
       "      <td>10.73</td>\n",
       "      <td>08 BRONX</td>\n",
       "      <td>92733</td>\n",
       "      <td>08</td>\n",
       "      <td>BX</td>\n",
       "      <td>BX</td>\n",
       "    </tr>\n",
       "    <tr>\n",
       "      <th>1</th>\n",
       "      <td>BX12</td>\n",
       "      <td>11.35</td>\n",
       "      <td>12 BRONX</td>\n",
       "      <td>168455</td>\n",
       "      <td>12</td>\n",
       "      <td>BX</td>\n",
       "      <td>BX</td>\n",
       "    </tr>\n",
       "    <tr>\n",
       "      <th>2</th>\n",
       "      <td>BX10</td>\n",
       "      <td>8.62</td>\n",
       "      <td>10 BRONX</td>\n",
       "      <td>95496</td>\n",
       "      <td>10</td>\n",
       "      <td>BX</td>\n",
       "      <td>BX</td>\n",
       "    </tr>\n",
       "    <tr>\n",
       "      <th>3</th>\n",
       "      <td>BX11</td>\n",
       "      <td>8.10</td>\n",
       "      <td>11 BRONX</td>\n",
       "      <td>122081</td>\n",
       "      <td>11</td>\n",
       "      <td>BX</td>\n",
       "      <td>BX</td>\n",
       "    </tr>\n",
       "    <tr>\n",
       "      <th>4</th>\n",
       "      <td>BX03</td>\n",
       "      <td>14.24</td>\n",
       "      <td>03 BRONX</td>\n",
       "      <td>75134</td>\n",
       "      <td>03</td>\n",
       "      <td>BX</td>\n",
       "      <td>BX</td>\n",
       "    </tr>\n",
       "  </tbody>\n",
       "</table>\n",
       "</div>"
      ],
      "text/plain": [
       "  cd_id  young Community Board  Number of Complaints cd_num cd_boro cd_bor\n",
       "0  BX08  10.73        08 BRONX                 92733     08      BX     BX\n",
       "1  BX12  11.35        12 BRONX                168455     12      BX     BX\n",
       "2  BX10   8.62        10 BRONX                 95496     10      BX     BX\n",
       "3  BX11   8.10        11 BRONX                122081     11      BX     BX\n",
       "4  BX03  14.24        03 BRONX                 75134     03      BX     BX"
      ]
     },
     "execution_count": 111,
     "metadata": {},
     "output_type": "execute_result"
    }
   ],
   "source": [
    "data_cd = pd.merge(comm_demo, comm_complaints, on='cd_id', how='left')\n",
    "data_cd.head()"
   ]
  },
  {
   "cell_type": "code",
   "execution_count": 126,
   "metadata": {
    "collapsed": false
   },
   "outputs": [
    {
     "data": {
      "text/html": [
       "<div>\n",
       "<table border=\"1\" class=\"dataframe\">\n",
       "  <thead>\n",
       "    <tr style=\"text-align: right;\">\n",
       "      <th></th>\n",
       "      <th>cd_id</th>\n",
       "      <th>young</th>\n",
       "      <th>Community Board</th>\n",
       "      <th>Number of Complaints</th>\n",
       "      <th>cd_num</th>\n",
       "      <th>cd_boro</th>\n",
       "      <th>cd_bor_x</th>\n",
       "      <th>with_internet</th>\n",
       "      <th>cd_bor_y</th>\n",
       "    </tr>\n",
       "  </thead>\n",
       "  <tbody>\n",
       "    <tr>\n",
       "      <th>0</th>\n",
       "      <td>BX08</td>\n",
       "      <td>10.73</td>\n",
       "      <td>08 BRONX</td>\n",
       "      <td>92733</td>\n",
       "      <td>08</td>\n",
       "      <td>BX</td>\n",
       "      <td>BX</td>\n",
       "      <td>31347.0</td>\n",
       "      <td>BX</td>\n",
       "    </tr>\n",
       "    <tr>\n",
       "      <th>1</th>\n",
       "      <td>BX12</td>\n",
       "      <td>11.35</td>\n",
       "      <td>12 BRONX</td>\n",
       "      <td>168455</td>\n",
       "      <td>12</td>\n",
       "      <td>BX</td>\n",
       "      <td>BX</td>\n",
       "      <td>31613.0</td>\n",
       "      <td>BX</td>\n",
       "    </tr>\n",
       "    <tr>\n",
       "      <th>2</th>\n",
       "      <td>BX10</td>\n",
       "      <td>8.62</td>\n",
       "      <td>10 BRONX</td>\n",
       "      <td>95496</td>\n",
       "      <td>10</td>\n",
       "      <td>BX</td>\n",
       "      <td>BX</td>\n",
       "      <td>32491.0</td>\n",
       "      <td>BX</td>\n",
       "    </tr>\n",
       "    <tr>\n",
       "      <th>3</th>\n",
       "      <td>BX11</td>\n",
       "      <td>8.10</td>\n",
       "      <td>11 BRONX</td>\n",
       "      <td>122081</td>\n",
       "      <td>11</td>\n",
       "      <td>BX</td>\n",
       "      <td>BX</td>\n",
       "      <td>31400.0</td>\n",
       "      <td>BX</td>\n",
       "    </tr>\n",
       "    <tr>\n",
       "      <th>4</th>\n",
       "      <td>BX03</td>\n",
       "      <td>14.24</td>\n",
       "      <td>03 BRONX</td>\n",
       "      <td>75134</td>\n",
       "      <td>03</td>\n",
       "      <td>BX</td>\n",
       "      <td>BX</td>\n",
       "      <td>33496.0</td>\n",
       "      <td>BX</td>\n",
       "    </tr>\n",
       "  </tbody>\n",
       "</table>\n",
       "</div>"
      ],
      "text/plain": [
       "  cd_id  young Community Board  Number of Complaints cd_num cd_boro cd_bor_x  \\\n",
       "0  BX08  10.73        08 BRONX                 92733     08      BX       BX   \n",
       "1  BX12  11.35        12 BRONX                168455     12      BX       BX   \n",
       "2  BX10   8.62        10 BRONX                 95496     10      BX       BX   \n",
       "3  BX11   8.10        11 BRONX                122081     11      BX       BX   \n",
       "4  BX03  14.24        03 BRONX                 75134     03      BX       BX   \n",
       "\n",
       "   with_internet cd_bor_y  \n",
       "0        31347.0       BX  \n",
       "1        31613.0       BX  \n",
       "2        32491.0       BX  \n",
       "3        31400.0       BX  \n",
       "4        33496.0       BX  "
      ]
     },
     "execution_count": 126,
     "metadata": {},
     "output_type": "execute_result"
    }
   ],
   "source": [
    "all_ = pd.merge(data_cd, comm_internet, on='cd_id', how='left')\n",
    "all_.head()"
   ]
  },
  {
   "cell_type": "code",
   "execution_count": 127,
   "metadata": {
    "collapsed": false
   },
   "outputs": [],
   "source": [
    "all_.drop([ 'cd_num', \"cd_bor_x\",\"cd_bor_y\"], axis=1, inplace=True)\n"
   ]
  },
  {
   "cell_type": "code",
   "execution_count": 128,
   "metadata": {
    "collapsed": false
   },
   "outputs": [
    {
     "data": {
      "text/html": [
       "<div>\n",
       "<table border=\"1\" class=\"dataframe\">\n",
       "  <thead>\n",
       "    <tr style=\"text-align: right;\">\n",
       "      <th></th>\n",
       "      <th>cd_id</th>\n",
       "      <th>young</th>\n",
       "      <th>Community Board</th>\n",
       "      <th>Number of Complaints</th>\n",
       "      <th>cd_boro</th>\n",
       "      <th>with_internet</th>\n",
       "    </tr>\n",
       "  </thead>\n",
       "  <tbody>\n",
       "    <tr>\n",
       "      <th>0</th>\n",
       "      <td>BX08</td>\n",
       "      <td>10.73</td>\n",
       "      <td>08 BRONX</td>\n",
       "      <td>92733</td>\n",
       "      <td>BX</td>\n",
       "      <td>31347.0</td>\n",
       "    </tr>\n",
       "    <tr>\n",
       "      <th>1</th>\n",
       "      <td>BX12</td>\n",
       "      <td>11.35</td>\n",
       "      <td>12 BRONX</td>\n",
       "      <td>168455</td>\n",
       "      <td>BX</td>\n",
       "      <td>31613.0</td>\n",
       "    </tr>\n",
       "    <tr>\n",
       "      <th>2</th>\n",
       "      <td>BX10</td>\n",
       "      <td>8.62</td>\n",
       "      <td>10 BRONX</td>\n",
       "      <td>95496</td>\n",
       "      <td>BX</td>\n",
       "      <td>32491.0</td>\n",
       "    </tr>\n",
       "    <tr>\n",
       "      <th>3</th>\n",
       "      <td>BX11</td>\n",
       "      <td>8.10</td>\n",
       "      <td>11 BRONX</td>\n",
       "      <td>122081</td>\n",
       "      <td>BX</td>\n",
       "      <td>31400.0</td>\n",
       "    </tr>\n",
       "    <tr>\n",
       "      <th>4</th>\n",
       "      <td>BX03</td>\n",
       "      <td>14.24</td>\n",
       "      <td>03 BRONX</td>\n",
       "      <td>75134</td>\n",
       "      <td>BX</td>\n",
       "      <td>33496.0</td>\n",
       "    </tr>\n",
       "  </tbody>\n",
       "</table>\n",
       "</div>"
      ],
      "text/plain": [
       "  cd_id  young Community Board  Number of Complaints cd_boro  with_internet\n",
       "0  BX08  10.73        08 BRONX                 92733      BX        31347.0\n",
       "1  BX12  11.35        12 BRONX                168455      BX        31613.0\n",
       "2  BX10   8.62        10 BRONX                 95496      BX        32491.0\n",
       "3  BX11   8.10        11 BRONX                122081      BX        31400.0\n",
       "4  BX03  14.24        03 BRONX                 75134      BX        33496.0"
      ]
     },
     "execution_count": 128,
     "metadata": {},
     "output_type": "execute_result"
    }
   ],
   "source": [
    "all_.head()"
   ]
  },
  {
   "cell_type": "code",
   "execution_count": 116,
   "metadata": {
    "collapsed": true
   },
   "outputs": [],
   "source": [
    "# Are the demographics and infrastructure different in Community Districts that show more complaints than others?"
   ]
  },
  {
   "cell_type": "code",
   "execution_count": 131,
   "metadata": {
    "collapsed": false
   },
   "outputs": [],
   "source": [
    "a = all_.groupby(\"cd_boro\").sum()"
   ]
  },
  {
   "cell_type": "code",
   "execution_count": 135,
   "metadata": {
    "collapsed": false
   },
   "outputs": [
    {
     "data": {
      "text/plain": [
       "<matplotlib.axes._subplots.AxesSubplot at 0x7f2f88132208>"
      ]
     },
     "execution_count": 135,
     "metadata": {},
     "output_type": "execute_result"
    },
    {
     "data": {
      "image/png": "[encoded data removed]",
      "text/plain": [
       "<matplotlib.figure.Figure at 0x7f2f88075898>"
      ]
     },
     "metadata": {},
     "output_type": "display_data"
    }
   ],
   "source": [
    "import matplotlib.pyplot as plt\n",
    "import seaborn\n",
    "import statsmodels.formula.api as smf\n",
    "%matplotlib inline\n",
    "a.plot(x=\"young\", y=\"Number of Complaints\",kind=\"scatter\")"
   ]
  },
  {
   "cell_type": "markdown",
   "metadata": {},
   "source": [
    "Figure 1. scatter plot for number of complaints and young population"
   ]
  },
  {
   "cell_type": "code",
   "execution_count": 136,
   "metadata": {
    "collapsed": false
   },
   "outputs": [
    {
     "data": {
      "text/plain": [
       "<matplotlib.axes._subplots.AxesSubplot at 0x7f2f8815dbe0>"
      ]
     },
     "execution_count": 136,
     "metadata": {},
     "output_type": "execute_result"
    },
    {
     "data": {
      "image/png": "[encoded data removed]",
      "text/plain": [
       "<matplotlib.figure.Figure at 0x7f2a7aea3b00>"
      ]
     },
     "metadata": {},
     "output_type": "display_data"
    }
   ],
   "source": [
    "a.plot(x=\"with_internet\", y=\"Number of Complaints\",kind=\"scatter\")"
   ]
  },
  {
   "cell_type": "markdown",
   "metadata": {},
   "source": [
    "Figure 2. Number of Complaints and people has internet"
   ]
  },
  {
   "cell_type": "code",
   "execution_count": 140,
   "metadata": {
    "collapsed": false
   },
   "outputs": [
    {
     "data": {
      "text/html": [
       "<div>\n",
       "<table border=\"1\" class=\"dataframe\">\n",
       "  <thead>\n",
       "    <tr style=\"text-align: right;\">\n",
       "      <th></th>\n",
       "      <th>young</th>\n",
       "      <th>Number of Complaints</th>\n",
       "      <th>with_internet</th>\n",
       "    </tr>\n",
       "  </thead>\n",
       "  <tbody>\n",
       "    <tr>\n",
       "      <th>young</th>\n",
       "      <td>1.000000</td>\n",
       "      <td>0.880097</td>\n",
       "      <td>0.709975</td>\n",
       "    </tr>\n",
       "    <tr>\n",
       "      <th>Number of Complaints</th>\n",
       "      <td>0.880097</td>\n",
       "      <td>1.000000</td>\n",
       "      <td>0.887874</td>\n",
       "    </tr>\n",
       "    <tr>\n",
       "      <th>with_internet</th>\n",
       "      <td>0.709975</td>\n",
       "      <td>0.887874</td>\n",
       "      <td>1.000000</td>\n",
       "    </tr>\n",
       "  </tbody>\n",
       "</table>\n",
       "</div>"
      ],
      "text/plain": [
       "                         young  Number of Complaints  with_internet\n",
       "young                 1.000000              0.880097       0.709975\n",
       "Number of Complaints  0.880097              1.000000       0.887874\n",
       "with_internet         0.709975              0.887874       1.000000"
      ]
     },
     "execution_count": 140,
     "metadata": {},
     "output_type": "execute_result"
    }
   ],
   "source": [
    "a.corr()"
   ]
  },
  {
   "cell_type": "markdown",
   "metadata": {},
   "source": [
    "As shown in Figure 1. and Figure 2., Number of Complaints somehow has relationship with  young population and people with internet.\n",
    "However, it is not a linear relationship. "
   ]
  },
  {
   "cell_type": "code",
   "execution_count": null,
   "metadata": {
    "collapsed": true
   },
   "outputs": [],
   "source": []
  }
 ],
 "metadata": {
  "celltoolbar": "Raw Cell Format",
  "kernelspec": {
   "display_name": "PUI2016_Python3",
   "language": "python",
   "name": "pui2016_python3"
  },
  "language_info": {
   "codemirror_mode": {
    "name": "ipython",
    "version": 3
   },
   "file_extension": ".py",
   "mimetype": "text/x-python",
   "name": "python",
   "nbconvert_exporter": "python",
   "pygments_lexer": "ipython3",
   "version": "3.5.2"
  }
 },
 "nbformat": 4,
 "nbformat_minor": 0
}
